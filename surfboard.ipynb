{
 "cells": [
  {
   "cell_type": "code",
   "execution_count": 2,
   "metadata": {
    "colab": {
     "base_uri": "https://localhost:8080/"
    },
    "executionInfo": {
     "elapsed": 1375,
     "status": "ok",
     "timestamp": 1607553636081,
     "user": {
      "displayName": "Zeyu Ma",
      "photoUrl": "https://lh3.googleusercontent.com/a-/AOh14GiKRfG9uDN_2W5pVUwCdjMSmX0vzDtio0i1yjWs=s64",
      "userId": "13634594731331206980"
     },
     "user_tz": 480
    },
    "id": "6I-xDbmQWMxi",
    "outputId": "d9c42973-596c-4e54-fd82-d849410417a7"
   },
   "outputs": [
    {
     "name": "stderr",
     "output_type": "stream",
     "text": [
      "/usr/local/lib/python3.6/dist-packages/sklearn/externals/six.py:31: FutureWarning: The module is deprecated in version 0.21 and will be removed in version 0.23 since we've dropped support for Python 2.7. Please rely on the official version of six (https://pypi.org/project/six/).\n",
      "  \"(https://pypi.org/project/six/).\", FutureWarning)\n",
      "/usr/local/lib/python3.6/dist-packages/sklearn/utils/deprecation.py:144: FutureWarning: The sklearn.neighbors.base module is  deprecated in version 0.22 and will be removed in version 0.24. The corresponding classes / functions should instead be imported from sklearn.neighbors. Anything that cannot be imported from sklearn.neighbors is now part of the private API.\n",
      "  warnings.warn(message, FutureWarning)\n"
     ]
    }
   ],
   "source": [
    "import numpy as np\n",
    "import os\n",
    "import scipy\n",
    "import pickle\n",
    "import matplotlib.pyplot as plt\n",
    "import sklearn\n",
    "from sklearn.preprocessing import StandardScaler\n",
    "from sklearn.decomposition import PCA, FastICA\n",
    "from sklearn.linear_model import LogisticRegression\n",
    "from sklearn.neighbors import KNeighborsClassifier\n",
    "from sklearn.svm import LinearSVC, SVC\n",
    "from sklearn.ensemble import RandomForestClassifier, GradientBoostingClassifier\n",
    "from sklearn.ensemble import AdaBoostClassifier\n",
    "from sklearn.metrics import classification_report, plot_roc_curve\n",
    "from imblearn.over_sampling import SMOTE\n",
    "\n",
    "plt.style.use('seaborn')\n",
    "%matplotlib inline"
   ]
  },
  {
   "cell_type": "code",
   "execution_count": 3,
   "metadata": {
    "executionInfo": {
     "elapsed": 442,
     "status": "ok",
     "timestamp": 1607553638378,
     "user": {
      "displayName": "Zeyu Ma",
      "photoUrl": "https://lh3.googleusercontent.com/a-/AOh14GiKRfG9uDN_2W5pVUwCdjMSmX0vzDtio0i1yjWs=s64",
      "userId": "13634594731331206980"
     },
     "user_tz": 480
    },
    "id": "k7aLVqAsWMxi"
   },
   "outputs": [],
   "source": [
    "PATH = \"MLSP/features\"\n",
    "MODEL_PATH = \"MLSP/models/surfboard\"\n",
    "feature = 'log_melspec'"
   ]
  },
  {
   "cell_type": "code",
   "execution_count": null,
   "metadata": {
    "id": "KOY--8_U2Olc"
   },
   "outputs": [],
   "source": [
    "# components = ['mfcc', \n",
    "#               'log_melspec',\n",
    "#               'magnitude_spectrum',\n",
    "#               'bark_spectrogram',\n",
    "#               'morlet_cwt',\n",
    "#               'chroma_stft',\n",
    "#               'chroma_cqt',\n",
    "#               'chroma_cens',\n",
    "#               'spectral_slope',\n",
    "#               'spectral_flux',\n",
    "#               'spectral_entropy',\n",
    "#               'spectral_centroid',\n",
    "#               'spectral_spread',\n",
    "#               'spectral_skewness',\n",
    "#               'spectral_kurtosis',\n",
    "#               'spectral_flatness',\n",
    "#               'spectral_rolloff',\n",
    "#               'loudness',\n",
    "#               'loudness_slidingwindow',\n",
    "#               'shannon_entropy',\n",
    "#               'shannon_entropy_slidingwindow',\n",
    "#               'zerocrossing',\n",
    "#               'zerocrossing_slidingwindow',\n",
    "#               'rms',\n",
    "#               'intensity',\n",
    "#               'crest_factor',\n",
    "#               'f0_contour',\n",
    "#               'f0_statistics',\n",
    "#               'ppe',\n",
    "#               'jitters',\n",
    "#               'shimmers',\n",
    "#               'hnr',\n",
    "#               'dfa',\n",
    "#               'lpc',\n",
    "#               'lsf',\n",
    "#               'formants',\n",
    "#               'formants_slidingwindow',\n",
    "#               'kurtosis_slidingwindow',\n",
    "#               'log_energy',\n",
    "#               'log_energy_slidingwindow']"
   ]
  },
  {
   "cell_type": "code",
   "execution_count": null,
   "metadata": {
    "id": "DAK4_b4_Vb7-"
   },
   "outputs": [],
   "source": [
    "# names = ['spectral_slope',\n",
    "#          'spectral_flux',\n",
    "#          'spectral_entropy',\n",
    "#          'spectral_centroid',\n",
    "#          'spectral_spread',\n",
    "#          'spectral_skewness',\n",
    "#          'spectral_kurtosis',\n",
    "#          'spectral_flatness',\n",
    "#          'spectral_rolloff']\n",
    "\n",
    "# train_x_all = []\n",
    "# dev1_x_all = []\n",
    "# dev2_x_all = []\n",
    "# test_x_all = []\n",
    "\n",
    "# for feature in names:\n",
    "#     train_x = np.load(os.path.join(PATH, f'surfboard_feature/train_x_{feature}.npy'), allow_pickle=True)  \n",
    "#     dev1_x = np.load(os.path.join(PATH, f'surfboard_feature/d1_x_{feature}.npy'), allow_pickle=True)    \n",
    "#     dev2_x = np.load(os.path.join(PATH, f'surfboard_feature/d2_x_{feature}.npy'), allow_pickle=True)   \n",
    "#     test_x = np.load(os.path.join(PATH, f'surfboard_feature/test_x_{feature}.npy'), allow_pickle=True)    \n",
    "#     train_x_all.append(train_x)\n",
    "#     dev1_x_all.append(dev1_x)\n",
    "#     dev2_x_all.append(dev2_x)\n",
    "#     test_x_all.append(test_x)\n",
    "\n",
    "# train_y = np.load(os.path.join(PATH, f'opensmile/train_y.npy'), allow_pickle=True)\n",
    "# dev1_y = np.load(os.path.join(PATH, f'opensmile/d1_y.npy'), allow_pickle=True)\n",
    "# dev2_y = np.load(os.path.join(PATH, f'opensmile/d2_y.npy'), allow_pickle=True)\n",
    "# test_y = np.load(os.path.join(PATH, f'opensmile/test_y.npy'), allow_pickle=True)\n",
    "\n",
    "# train_x = np.concatenate(train_x_all, axis=-1)\n",
    "# dev1_x = np.concatenate(dev1_x_all, axis=-1)\n",
    "# dev2_x = np.concatenate(dev2_x_all, axis=-1)\n",
    "# test_x = np.concatenate(test_x_all, axis=-1)"
   ]
  },
  {
   "cell_type": "code",
   "execution_count": 11,
   "metadata": {
    "executionInfo": {
     "elapsed": 1063,
     "status": "ok",
     "timestamp": 1607553984467,
     "user": {
      "displayName": "Zeyu Ma",
      "photoUrl": "https://lh3.googleusercontent.com/a-/AOh14GiKRfG9uDN_2W5pVUwCdjMSmX0vzDtio0i1yjWs=s64",
      "userId": "13634594731331206980"
     },
     "user_tz": 480
    },
    "id": "pwVuVu7qWMxi"
   },
   "outputs": [],
   "source": [
    "train_x = np.load(os.path.join(PATH, f'surfboard_feature/train_x_{feature}.npy'), allow_pickle=True)\n",
    "train_y = np.load(os.path.join(PATH, f'opensmile/train_y.npy'), allow_pickle=True)\n",
    "dev1_x = np.load(os.path.join(PATH, f'surfboard_feature/d1_x_{feature}.npy'), allow_pickle=True)\n",
    "dev1_y = np.load(os.path.join(PATH, f'opensmile/d1_y.npy'), allow_pickle=True)\n",
    "dev2_x = np.load(os.path.join(PATH, f'surfboard_feature/d2_x_{feature}.npy'), allow_pickle=True)\n",
    "dev2_y = np.load(os.path.join(PATH, f'opensmile/d2_y.npy'), allow_pickle=True)\n",
    "test_x = np.load(os.path.join(PATH, f'surfboard_feature/test_x_{feature}.npy'), allow_pickle=True)\n",
    "test_y = np.load(os.path.join(PATH, f'opensmile/test_y.npy'), allow_pickle=True)"
   ]
  },
  {
   "cell_type": "code",
   "execution_count": 12,
   "metadata": {
    "colab": {
     "base_uri": "https://localhost:8080/"
    },
    "executionInfo": {
     "elapsed": 58758,
     "status": "ok",
     "timestamp": 1607554046921,
     "user": {
      "displayName": "Zeyu Ma",
      "photoUrl": "https://lh3.googleusercontent.com/a-/AOh14GiKRfG9uDN_2W5pVUwCdjMSmX0vzDtio0i1yjWs=s64",
      "userId": "13634594731331206980"
     },
     "user_tz": 480
    },
    "id": "cFC8JKF0WMxi",
    "outputId": "ff31ecd2-0507-4b1f-ced2-ac9d1bfff3a5"
   },
   "outputs": [
    {
     "name": "stderr",
     "output_type": "stream",
     "text": [
      "/usr/local/lib/python3.6/dist-packages/sklearn/utils/deprecation.py:87: FutureWarning: Function safe_indexing is deprecated; safe_indexing is deprecated in version 0.22 and will be removed in version 0.24.\n",
      "  warnings.warn(msg, category=FutureWarning)\n"
     ]
    }
   ],
   "source": [
    "train_x = np.concatenate([train_x, dev1_x, dev2_x])\n",
    "train_y = np.concatenate([train_y, dev1_y, dev2_y])\n",
    "\n",
    "smote = SMOTE(random_state=0)\n",
    "balance_x, balance_y = smote.fit_resample(train_x, train_y)"
   ]
  },
  {
   "cell_type": "code",
   "execution_count": 13,
   "metadata": {
    "colab": {
     "base_uri": "https://localhost:8080/"
    },
    "executionInfo": {
     "elapsed": 57107,
     "status": "ok",
     "timestamp": 1607554046924,
     "user": {
      "displayName": "Zeyu Ma",
      "photoUrl": "https://lh3.googleusercontent.com/a-/AOh14GiKRfG9uDN_2W5pVUwCdjMSmX0vzDtio0i1yjWs=s64",
      "userId": "13634594731331206980"
     },
     "user_tz": 480
    },
    "id": "pohm_zL8WMxi",
    "outputId": "793b9445-2b6c-409d-bfd7-09bb6c5f5a34"
   },
   "outputs": [
    {
     "name": "stdout",
     "output_type": "stream",
     "text": [
      "train: (10860, 3328) (10860,)\n",
      "test: (3000, 3328) (3000,)\n",
      "balance: (15480, 3328) (15480,)\n"
     ]
    }
   ],
   "source": [
    "print('train:', train_x.shape, train_y.shape)\n",
    "print('test:', test_x.shape, test_y.shape)\n",
    "print('balance:', balance_x.shape, balance_y.shape)"
   ]
  },
  {
   "cell_type": "code",
   "execution_count": 14,
   "metadata": {
    "executionInfo": {
     "elapsed": 55669,
     "status": "ok",
     "timestamp": 1607554047849,
     "user": {
      "displayName": "Zeyu Ma",
      "photoUrl": "https://lh3.googleusercontent.com/a-/AOh14GiKRfG9uDN_2W5pVUwCdjMSmX0vzDtio0i1yjWs=s64",
      "userId": "13634594731331206980"
     },
     "user_tz": 480
    },
    "id": "4F4GNXYyZGzi"
   },
   "outputs": [],
   "source": [
    "scaler = StandardScaler()\n",
    "scaler.fit(train_x)\n",
    "train_x = scaler.transform(train_x)\n",
    "balance_x = scaler.transform(balance_x)\n",
    "test_x = scaler.transform(test_x)"
   ]
  },
  {
   "cell_type": "code",
   "execution_count": null,
   "metadata": {
    "id": "P_Q1GfV5WMxj"
   },
   "outputs": [],
   "source": [
    "# pca = PCA(n_components=30)\n",
    "# pca.fit(train_x)\n",
    "# train_x = pca.transform(train_x)\n",
    "# balance_x = pca.transform(balance_x)\n",
    "# test_x = pca.transform(test_x)"
   ]
  },
  {
   "cell_type": "code",
   "execution_count": null,
   "metadata": {
    "id": "_gHvETQy5D-9"
   },
   "outputs": [],
   "source": [
    "# ica = FastICA(n_components=30)\n",
    "# ica.fit(train_x)\n",
    "# train_x = ica.transform(train_x)\n",
    "# balance_x = ica.transform(balance_x)\n",
    "# test_x = ica.transform(test_x)"
   ]
  },
  {
   "cell_type": "code",
   "execution_count": null,
   "metadata": {
    "id": "KvPyYLB1WMxj"
   },
   "outputs": [],
   "source": [
    "class ALCModel:\n",
    "    def __init__(self, method, **kwarg):\n",
    "        self.method = method\n",
    "        \n",
    "        if method == 'logistic':\n",
    "            # https://scikit-learn.org/stable/modules/generated/sklearn.linear_model.LogisticRegression.html\n",
    "            self.clf = LogisticRegression(**kwarg)\n",
    "        elif method == 'neighbor':\n",
    "            # https://scikit-learn.org/stable/modules/generated/sklearn.neighbors.KNeighborsClassifier.html\n",
    "            self.clf = KNeighborsClassifier(**kwarg)\n",
    "        elif method == 'linear_svm':\n",
    "            # https://scikit-learn.org/stable/modules/generated/sklearn.svm.LinearSVC.html\n",
    "            self.clf = LinearSVC(**kwarg)\n",
    "        elif method == 'svm':\n",
    "            # https://scikit-learn.org/stable/modules/generated/sklearn.svm.SVC.html\n",
    "            self.clf = SVC(**kwarg)\n",
    "        elif method == 'forest':\n",
    "            # https://scikit-learn.org/stable/modules/generated/sklearn.ensemble.RandomForestClassifier.html\n",
    "            self.clf = RandomForestClassifier(**kwarg)\n",
    "        elif method == 'adaboost':\n",
    "            # https://scikit-learn.org/stable/modules/generated/sklearn.ensemble.AdaBoostClassifier.html\n",
    "            self.clf = AdaBoostClassifier(**kwarg)\n",
    "        elif method == 'gradboost':\n",
    "            # https://scikit-learn.org/stable/modules/generated/sklearn.ensemble.GradientBoostingClassifier.html\n",
    "            self.clf = GradientBoostingClassifier(**kwarg)\n",
    "        else:\n",
    "            raise NotImplementedError\n",
    "        \n",
    "    def fit(self, x, y):\n",
    "        self.clf.fit(x, y)\n",
    "    \n",
    "    def predict(self, x):\n",
    "        prediction = self.clf.predict(x)\n",
    "        return prediction\n",
    "    \n",
    "    def evaluate(self, x, label, roc=True):\n",
    "        pred = self.predict(x)\n",
    "        acc = np.mean(pred == label)\n",
    "        report = sklearn.metrics.classification_report(label, pred)\n",
    "        if roc:\n",
    "            curve = plot_roc_curve(self.clf, x, label)\n",
    "            plt.show()\n",
    "        return acc, report\n",
    "\n",
    "    def save_model(self, path):\n",
    "        if not os.path.exists(path):\n",
    "            os.mkdir(path)        \n",
    "        filename = os.path.join(path, '{}.pkl'.format(self.method))\n",
    "        pickle.dump(self.clf, open(filename, \"wb\"))"
   ]
  },
  {
   "cell_type": "code",
   "execution_count": null,
   "metadata": {
    "colab": {
     "base_uri": "https://localhost:8080/",
     "height": 432
    },
    "executionInfo": {
     "elapsed": 137092,
     "status": "ok",
     "timestamp": 1607476538030,
     "user": {
      "displayName": "Zeyu Ma",
      "photoUrl": "https://lh3.googleusercontent.com/a-/AOh14GiKRfG9uDN_2W5pVUwCdjMSmX0vzDtio0i1yjWs=s64",
      "userId": "13634594731331206980"
     },
     "user_tz": 480
    },
    "id": "eN8AGQAzye6K",
    "outputId": "34521cc6-c657-433b-997a-5087d7efaf10"
   },
   "outputs": [
    {
     "data": {
      "image/png": "[encoded data removed]",
      "text/plain": [
       "<Figure size 432x288 with 1 Axes>"
      ]
     },
     "metadata": {
      "needs_background": "light",
      "tags": []
     },
     "output_type": "display_data"
    },
    {
     "name": "stdout",
     "output_type": "stream",
     "text": [
      "              precision    recall  f1-score   support\n",
      "\n",
      "           0       0.74      0.86      0.80      1500\n",
      "           1       0.84      0.70      0.76      1500\n",
      "\n",
      "    accuracy                           0.78      3000\n",
      "   macro avg       0.79      0.78      0.78      3000\n",
      "weighted avg       0.79      0.78      0.78      3000\n",
      "\n"
     ]
    }
   ],
   "source": [
    "model = ALCModel('logistic', penalty='l2', C=1.0, n_jobs=8)\n",
    "model.fit(balance_x, balance_y)\n",
    "acc, report = model.evaluate(test_x, test_y, roc=True)\n",
    "print(report)\n",
    "# model.save_model(MODEL_PATH)"
   ]
  },
  {
   "cell_type": "code",
   "execution_count": null,
   "metadata": {
    "colab": {
     "base_uri": "https://localhost:8080/",
     "height": 432
    },
    "executionInfo": {
     "elapsed": 1957210,
     "status": "ok",
     "timestamp": 1607478358157,
     "user": {
      "displayName": "Zeyu Ma",
      "photoUrl": "https://lh3.googleusercontent.com/a-/AOh14GiKRfG9uDN_2W5pVUwCdjMSmX0vzDtio0i1yjWs=s64",
      "userId": "13634594731331206980"
     },
     "user_tz": 480
    },
    "id": "R1RuEwNDWMxj",
    "outputId": "12727553-1a1d-4801-acd7-b6b4b4d1d2ed"
   },
   "outputs": [
    {
     "data": {
      "image/png": "[encoded data removed]",
      "text/plain": [
       "<Figure size 432x288 with 1 Axes>"
      ]
     },
     "metadata": {
      "needs_background": "light",
      "tags": []
     },
     "output_type": "display_data"
    },
    {
     "name": "stdout",
     "output_type": "stream",
     "text": [
      "              precision    recall  f1-score   support\n",
      "\n",
      "           0       0.74      0.96      0.84      1500\n",
      "           1       0.95      0.66      0.78      1500\n",
      "\n",
      "    accuracy                           0.81      3000\n",
      "   macro avg       0.84      0.81      0.81      3000\n",
      "weighted avg       0.84      0.81      0.81      3000\n",
      "\n"
     ]
    }
   ],
   "source": [
    "model = ALCModel('svm', C=10.0, kernel='rbf')\n",
    "model.fit(balance_x, balance_y)\n",
    "acc, report = model.evaluate(test_x, test_y, roc=True)\n",
    "print(report)\n",
    "# model.save_model(MODEL_PATH)"
   ]
  },
  {
   "cell_type": "code",
   "execution_count": null,
   "metadata": {
    "colab": {
     "base_uri": "https://localhost:8080/",
     "height": 432
    },
    "executionInfo": {
     "elapsed": 386126,
     "status": "ok",
     "timestamp": 1607473579500,
     "user": {
      "displayName": "Zeyu Ma",
      "photoUrl": "https://lh3.googleusercontent.com/a-/AOh14GiKRfG9uDN_2W5pVUwCdjMSmX0vzDtio0i1yjWs=s64",
      "userId": "13634594731331206980"
     },
     "user_tz": 480
    },
    "id": "HiP7TZJXWMxj",
    "outputId": "68070b78-326f-492c-e6a9-f4928e74164d"
   },
   "outputs": [
    {
     "data": {
      "image/png": "[encoded data removed]",
      "text/plain": [
       "<Figure size 432x288 with 1 Axes>"
      ]
     },
     "metadata": {
      "needs_background": "light",
      "tags": []
     },
     "output_type": "display_data"
    },
    {
     "name": "stdout",
     "output_type": "stream",
     "text": [
      "              precision    recall  f1-score   support\n",
      "\n",
      "           0       0.64      0.89      0.75      1500\n",
      "           1       0.82      0.51      0.63      1500\n",
      "\n",
      "    accuracy                           0.70      3000\n",
      "   macro avg       0.73      0.70      0.69      3000\n",
      "weighted avg       0.73      0.70      0.69      3000\n",
      "\n"
     ]
    }
   ],
   "source": [
    "model = ALCModel('forest', n_estimators=200, n_jobs=8)\n",
    "model.fit(balance_x, balance_y)\n",
    "acc, report = model.evaluate(test_x, test_y, roc=True)\n",
    "print(report)\n",
    "# model.save_model(MODEL_PATH)"
   ]
  },
  {
   "cell_type": "code",
   "execution_count": null,
   "metadata": {
    "colab": {
     "base_uri": "https://localhost:8080/",
     "height": 432
    },
    "executionInfo": {
     "elapsed": 527948,
     "status": "ok",
     "timestamp": 1607473723194,
     "user": {
      "displayName": "Zeyu Ma",
      "photoUrl": "https://lh3.googleusercontent.com/a-/AOh14GiKRfG9uDN_2W5pVUwCdjMSmX0vzDtio0i1yjWs=s64",
      "userId": "13634594731331206980"
     },
     "user_tz": 480
    },
    "id": "3kQ1zjXYWMxj",
    "outputId": "4191295b-be38-4474-f641-96347a88fbac",
    "scrolled": false
   },
   "outputs": [
    {
     "data": {
      "image/png": "[encoded data removed]",
      "text/plain": [
       "<Figure size 432x288 with 1 Axes>"
      ]
     },
     "metadata": {
      "needs_background": "light",
      "tags": []
     },
     "output_type": "display_data"
    },
    {
     "name": "stdout",
     "output_type": "stream",
     "text": [
      "              precision    recall  f1-score   support\n",
      "\n",
      "           0       0.67      0.70      0.68      1500\n",
      "           1       0.69      0.65      0.67      1500\n",
      "\n",
      "    accuracy                           0.68      3000\n",
      "   macro avg       0.68      0.68      0.68      3000\n",
      "weighted avg       0.68      0.68      0.68      3000\n",
      "\n"
     ]
    }
   ],
   "source": [
    "model = ALCModel('adaboost', n_estimators=100, learning_rate=1.0)\n",
    "model.fit(balance_x, balance_y)\n",
    "acc, report = model.evaluate(test_x, test_y, roc=True)\n",
    "print(report)\n",
    "# model.save_model(MODEL_PATH)"
   ]
  },
  {
   "cell_type": "code",
   "execution_count": null,
   "metadata": {
    "colab": {
     "base_uri": "https://localhost:8080/",
     "height": 789
    },
    "executionInfo": {
     "elapsed": 1230652,
     "status": "ok",
     "timestamp": 1607474428055,
     "user": {
      "displayName": "Zeyu Ma",
      "photoUrl": "https://lh3.googleusercontent.com/a-/AOh14GiKRfG9uDN_2W5pVUwCdjMSmX0vzDtio0i1yjWs=s64",
      "userId": "13634594731331206980"
     },
     "user_tz": 480
    },
    "id": "PBCxuAhjWMxk",
    "outputId": "65a206c6-f73f-4bfd-a0cd-f7a0cc3497c8"
   },
   "outputs": [
    {
     "name": "stdout",
     "output_type": "stream",
     "text": [
      "      Iter       Train Loss   Remaining Time \n",
      "         1           1.3611           11.69m\n",
      "         2           1.3395           11.61m\n",
      "         3           1.3199           11.60m\n",
      "         4           1.3027           11.57m\n",
      "         5           1.2872           11.56m\n",
      "         6           1.2712           11.50m\n",
      "         7           1.2591           11.43m\n",
      "         8           1.2464           11.34m\n",
      "         9           1.2354           11.27m\n",
      "        10           1.2257           11.21m\n",
      "        20           1.1367           10.55m\n",
      "        30           1.0738            9.97m\n",
      "        40           1.0199            9.38m\n",
      "        50           0.9683            8.80m\n",
      "        60           0.9262            8.22m\n",
      "        70           0.8904            7.63m\n",
      "        80           0.8611            7.05m\n",
      "        90           0.8280            6.50m\n",
      "       100           0.8015            5.91m\n",
      "       200           0.6017            0.00s\n"
     ]
    },
    {
     "data": {
      "image/png": "[encoded data removed]",
      "text/plain": [
       "<Figure size 432x288 with 1 Axes>"
      ]
     },
     "metadata": {
      "needs_background": "light",
      "tags": []
     },
     "output_type": "display_data"
    },
    {
     "name": "stdout",
     "output_type": "stream",
     "text": [
      "              precision    recall  f1-score   support\n",
      "\n",
      "           0       0.69      0.78      0.74      1500\n",
      "           1       0.75      0.66      0.70      1500\n",
      "\n",
      "    accuracy                           0.72      3000\n",
      "   macro avg       0.72      0.72      0.72      3000\n",
      "weighted avg       0.72      0.72      0.72      3000\n",
      "\n"
     ]
    }
   ],
   "source": [
    "model = ALCModel('gradboost', n_estimators=200, learning_rate=0.1, verbose=True)\n",
    "model.fit(balance_x, balance_y)\n",
    "acc, report = model.evaluate(test_x, test_y, roc=True)\n",
    "print(report)\n",
    "model.save_model(MODEL_PATH)"
   ]
  },
  {
   "cell_type": "code",
   "execution_count": null,
   "metadata": {
    "id": "ApgvihNNWMxk"
   },
   "outputs": [],
   "source": []
  }
 ],
 "metadata": {
  "colab": {
   "collapsed_sections": [],
   "name": "surfboard.ipynb",
   "provenance": []
  },
  "kernelspec": {
   "display_name": "Python 3",
   "language": "python",
   "name": "python3"
  },
  "language_info": {
   "codemirror_mode": {
    "name": "ipython",
    "version": 3
   },
   "file_extension": ".py",
   "mimetype": "text/x-python",
   "name": "python",
   "nbconvert_exporter": "python",
   "pygments_lexer": "ipython3",
   "version": "3.8.5"
  }
 },
 "nbformat": 4,
 "nbformat_minor": 1
}
