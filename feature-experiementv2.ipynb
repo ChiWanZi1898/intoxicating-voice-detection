{
 "cells": [
  {
   "cell_type": "code",
   "execution_count": 2,
   "metadata": {
    "id": "8QRBsZLa62xs"
   },
   "outputs": [],
   "source": [
    "import numpy as np\n",
    "import os\n",
    "import scipy\n",
    "import matplotlib.pyplot as plt\n",
    "from tqdm import tqdm\n",
    "import sklearn\n",
    "from sklearn.linear_model import LogisticRegression\n",
    "from sklearn.svm import SVC\n",
    "from sklearn.ensemble import RandomForestClassifier\n",
    "from sklearn.ensemble import AdaBoostClassifier\n",
    "from imblearn.over_sampling import SMOTE\n",
    "import librosa\n",
    "from dataset import ALCDataset\n",
    "\n",
    "%matplotlib inline"
   ]
  },
  {
   "cell_type": "code",
   "execution_count": 3,
   "metadata": {
    "colab": {
     "base_uri": "https://localhost:8080/"
    },
    "id": "FD8M6IYLVxyS",
    "outputId": "7ed41ca8-9e6f-4363-9c93-7c84058b95fc"
   },
   "outputs": [
    {
     "name": "stdout",
     "output_type": "stream",
     "text": [
      "Mounted at /content/drive\n"
     ]
    }
   ],
   "source": [
    "from google.colab import drive\n",
    "drive.mount('/content/drive')"
   ]
  },
  {
   "cell_type": "code",
   "execution_count": 4,
   "metadata": {
    "id": "kYW42AYn62xw"
   },
   "outputs": [],
   "source": [
    "import warnings\n",
    "warnings.filterwarnings('ignore')"
   ]
  },
  {
   "cell_type": "code",
   "execution_count": 5,
   "metadata": {
    "colab": {
     "base_uri": "https://localhost:8080/"
    },
    "id": "u4S5Jsdj62xy",
    "outputId": "dee70d1c-5f61-4831-b26e-2bdef84e347a"
   },
   "outputs": [
    {
     "name": "stdout",
     "output_type": "stream",
     "text": [
      "/content\n"
     ]
    }
   ],
   "source": [
    "SR = 16000\n",
    "print(os.getcwd())"
   ]
  },
  {
   "cell_type": "markdown",
   "metadata": {
    "id": "4Vg9aioK62x0"
   },
   "source": [
    "### Load data"
   ]
  },
  {
   "cell_type": "code",
   "execution_count": 6,
   "metadata": {
    "colab": {
     "base_uri": "https://localhost:8080/"
    },
    "id": "kfYIuln-62x1",
    "outputId": "6227cd08-5497-4468-b277-cc9fb1f6bfc2"
   },
   "outputs": [
    {
     "name": "stdout",
     "output_type": "stream",
     "text": []
    }
   ],
   "source": [
    "alc_dataset = ALCDataset('/content/drive/MyDrive/alc')\n",
    "data_train, label_train = alc_dataset.load_data('train', percentage=1.0, num_threads=4)\n",
    "data_dev1, label_dev1 = alc_dataset.load_data('d1', percentage=1.0, num_threads=4)\n",
    "data_dev2, label_dev2 = alc_dataset.load_data('d2', percentage=1.0, num_threads=4)\n",
    "data_test, label_test = alc_dataset.load_data('test', percentage=1.0, num_threads=4)"
   ]
  },
  {
   "cell_type": "code",
   "execution_count": 7,
   "metadata": {
    "colab": {
     "base_uri": "https://localhost:8080/"
    },
    "id": "6XWENwqi62x3",
    "outputId": "ee14ba28-d85a-4650-fe2d-7dbd22ba1b74"
   },
   "outputs": [
    {
     "name": "stdout",
     "output_type": "stream",
     "text": [
      "#train: 5400\n",
      "#dev1: 3960\n",
      "#dev2: 1500\n",
      "#test: 3000\n"
     ]
    }
   ],
   "source": [
    "assert len(data_train) == len(label_train)\n",
    "assert len(data_dev1) == len(label_dev1)\n",
    "assert len(data_dev2) == len(label_dev2)\n",
    "assert len(data_test) == len(label_test)\n",
    "\n",
    "print('#train: {}'.format(len(data_train)))\n",
    "print('#dev1: {}'.format(len(data_dev1)))\n",
    "print('#dev2: {}'.format(len(data_dev2)))\n",
    "print('#test: {}'.format(len(data_test)))"
   ]
  },
  {
   "cell_type": "markdown",
   "metadata": {
    "id": "-5nFUkx-62x5"
   },
   "source": [
    "### Feature extraction"
   ]
  },
  {
   "cell_type": "code",
   "execution_count": 8,
   "metadata": {
    "id": "uqMgvVKt62x6"
   },
   "outputs": [],
   "source": [
    "class ALCFeature:\n",
    "    def __init__(self, sr):\n",
    "        self.sr = sr\n",
    "        \n",
    "    def delete_silence(self, audio, top_db=20):\n",
    "        result = []\n",
    "        intervals = librosa.effects.split(audio, top_db=top_db, frame_length=2048, hop_length=512)\n",
    "        for interval in intervals:\n",
    "            result.append(audio[interval[0]: interval[1]])\n",
    "        result = np.concatenate(result)\n",
    "        return result\n",
    "        \n",
    "    def get_mfcc(self, data, label, n_mfcc=20, wsize=0.1, concat=5, scale=True):\n",
    "        x_mfcc = []\n",
    "        y_mfcc = []\n",
    "        record_mfcc = []\n",
    "        wsize = int(wsize * self.sr)\n",
    "        for i in tqdm(range(len(data)), ncols=100, ascii=True, desc='MFCC feature'):\n",
    "            audio = self.delete_silence(data[i])\n",
    "            x = librosa.feature.mfcc(audio, sr=self.sr, n_mfcc=n_mfcc, n_fft=2048, hop_length=512, win_length=wsize, window='hann')\n",
    "            if scale:\n",
    "                x = x - np.min(x, axis=1, keepdims=True)\n",
    "            for j in range(x.shape[1] // concat):\n",
    "                slice_ = x[:, j * concat: (j + 1) * concat]\n",
    "                x_mfcc.append(slice_.flatten())\n",
    "                y_mfcc.append(label[i])\n",
    "                record_mfcc.append(i)\n",
    "        x_mfcc = np.stack(x_mfcc)\n",
    "        y_mfcc = np.array(y_mfcc)\n",
    "        record_mfcc = np.array(record_mfcc)\n",
    "        return x_mfcc, y_mfcc, record_mfcc\n",
    "    \n",
    "    def get_pncc(self, data, label):\n",
    "        pass\n",
    "    \n",
    "    def get_cqt(self, data, label, n_chroma=12, wsize=0.1, concat=5, scale=True):\n",
    "        x_cqt = []\n",
    "        y_cqt = []\n",
    "        record_cqt = []\n",
    "        wind = np.hamming(int(wsize * self.sr))\n",
    "        for i in tqdm(range(len(data)), ncols=100, ascii=True, desc='CQT feature'):\n",
    "            audio = self.delete_silence(data[i])\n",
    "            x = librosa.feature.chroma_cqt(audio, sr=self.sr, n_chroma=n_chroma, hop_length=512, window=wind)\n",
    "            if scale:\n",
    "                x = x - np.min(x, axis=1, keepdims=True)\n",
    "            for j in range(x.shape[1] // concat):\n",
    "                slice_ = x[:, j * concat: (j + 1) * concat]\n",
    "                x_cqt.append(slice_.flatten())\n",
    "                y_cqt.append(label[i])\n",
    "                record_cqt.append(i)\n",
    "        x_cqt = np.stack(x_cqt)\n",
    "        y_cqt = np.array(y_cqt)\n",
    "        record_cqt = np.array(record_cqt)\n",
    "        return x_cqt, y_cqt, record_cqt"
   ]
  },
  {
   "cell_type": "code",
   "execution_count": 9,
   "metadata": {
    "id": "qCYtkcrx62x8"
   },
   "outputs": [],
   "source": [
    "alc_feature = ALCFeature(SR)\n",
    "smote = SMOTE(random_state=0)\n",
    "\n",
    "# # MFCC\n",
    "# x_train, y_train, record_train = alc_feature.get_mfcc(data_train, label_train)\n",
    "# x_balance, y_balance = smote.fit_resample(x_train, y_train)\n",
    "# x_dev1, y_dev1, record_dev1 = alc_feature.get_mfcc(data_dev1, label_dev1)\n",
    "# x_dev2, y_dev2, record_dev2 = alc_feature.get_mfcc(data_dev2, label_dev2)\n",
    "# x_test, y_test, record_test = alc_feature.get_mfcc(data_test, label_test)\n",
    "\n",
    "# CQT test case\n"
   ]
  },
  {
   "cell_type": "code",
   "execution_count": 10,
   "metadata": {
    "colab": {
     "base_uri": "https://localhost:8080/",
     "height": 231
    },
    "id": "ivnJYjhR62x-",
    "outputId": "172dc104-3059-432a-c667-9a034405aa2a"
   },
   "outputs": [
    {
     "ename": "NameError",
     "evalue": "ignored",
     "output_type": "error",
     "traceback": [
      "\u001b[0;31m---------------------------------------------------------------------------\u001b[0m",
      "\u001b[0;31mNameError\u001b[0m                                 Traceback (most recent call last)",
      "\u001b[0;32m<ipython-input-10-310b1867d987>\u001b[0m in \u001b[0;36m<module>\u001b[0;34m()\u001b[0m\n\u001b[1;32m      1\u001b[0m \u001b[0mpca\u001b[0m \u001b[0;34m=\u001b[0m \u001b[0msklearn\u001b[0m\u001b[0;34m.\u001b[0m\u001b[0mdecomposition\u001b[0m\u001b[0;34m.\u001b[0m\u001b[0mPCA\u001b[0m\u001b[0;34m(\u001b[0m\u001b[0mn_components\u001b[0m\u001b[0;34m=\u001b[0m\u001b[0;36m50\u001b[0m\u001b[0;34m)\u001b[0m\u001b[0;34m\u001b[0m\u001b[0;34m\u001b[0m\u001b[0m\n\u001b[0;32m----> 2\u001b[0;31m \u001b[0mpca\u001b[0m\u001b[0;34m.\u001b[0m\u001b[0mfit\u001b[0m\u001b[0;34m(\u001b[0m\u001b[0mx_train\u001b[0m\u001b[0;34m)\u001b[0m\u001b[0;34m\u001b[0m\u001b[0;34m\u001b[0m\u001b[0m\n\u001b[0m\u001b[1;32m      3\u001b[0m \u001b[0mx_train\u001b[0m \u001b[0;34m=\u001b[0m \u001b[0mpca\u001b[0m\u001b[0;34m.\u001b[0m\u001b[0mtransform\u001b[0m\u001b[0;34m(\u001b[0m\u001b[0mx_train\u001b[0m\u001b[0;34m)\u001b[0m\u001b[0;34m\u001b[0m\u001b[0;34m\u001b[0m\u001b[0m\n\u001b[1;32m      4\u001b[0m \u001b[0mx_balance\u001b[0m \u001b[0;34m=\u001b[0m \u001b[0mpca\u001b[0m\u001b[0;34m.\u001b[0m\u001b[0mtransform\u001b[0m\u001b[0;34m(\u001b[0m\u001b[0mx_balance\u001b[0m\u001b[0;34m)\u001b[0m\u001b[0;34m\u001b[0m\u001b[0;34m\u001b[0m\u001b[0m\n\u001b[1;32m      5\u001b[0m \u001b[0mx_dev1\u001b[0m \u001b[0;34m=\u001b[0m \u001b[0mpca\u001b[0m\u001b[0;34m.\u001b[0m\u001b[0mtransform\u001b[0m\u001b[0;34m(\u001b[0m\u001b[0mx_dev1\u001b[0m\u001b[0;34m)\u001b[0m\u001b[0;34m\u001b[0m\u001b[0;34m\u001b[0m\u001b[0m\n",
      "\u001b[0;31mNameError\u001b[0m: name 'x_train' is not defined"
     ]
    }
   ],
   "source": [
    "pca = sklearn.decomposition.PCA(n_components=50)\n",
    "pca.fit(x_train)\n",
    "x_train = pca.transform(x_train)\n",
    "x_balance = pca.transform(x_balance)\n",
    "x_dev1 = pca.transform(x_dev1)\n",
    "x_dev2 = pca.transform(x_dev2)\n",
    "x_test = pca.transform(x_test)"
   ]
  },
  {
   "cell_type": "markdown",
   "metadata": {
    "id": "bwP14CLS62yA"
   },
   "source": [
    "### Classification model"
   ]
  },
  {
   "cell_type": "code",
   "execution_count": 11,
   "metadata": {
    "id": "maXneWMA62yA"
   },
   "outputs": [],
   "source": [
    "class ALCModel:\n",
    "    def __init__(self, method, verbose=None):\n",
    "        if method == 'lr':\n",
    "            if verbose is None:\n",
    "                verbose = 0\n",
    "            self.clf = LogisticRegression(verbose=verbose)\n",
    "        elif method == 'svm':\n",
    "            if verbose is None:\n",
    "                verbose = False\n",
    "            self.clf = SVC(C=1.0, kernel='rbf', verbose=verbose)\n",
    "        elif method == 'forest':\n",
    "            if verbose is None:\n",
    "                verbose = 0\n",
    "            self.clf = RandomForestClassifier(n_estimators=100, verbose=verbose)\n",
    "        elif method == 'adaboost':\n",
    "            self.clf = AdaBoostClassifier(n_estimators=100)\n",
    "        else:\n",
    "            pass\n",
    "        \n",
    "    def fit(self, x, y):\n",
    "        self.clf.fit(x, y)\n",
    "    \n",
    "    def predict(self, x, record):\n",
    "        prediction = []\n",
    "        probability = []\n",
    "        raw_pred = self.clf.predict(x)\n",
    "        for i in range(record[-1] + 1):\n",
    "            this_pred = raw_pred[record == i]\n",
    "            if len(this_pred) == 0:\n",
    "                this_prob = np.random.uniform(low=0.0, high=1.0)\n",
    "                this_pred = np.random.choice([0, 1])              \n",
    "            else:\n",
    "                this_prob = np.mean(this_pred)\n",
    "                this_pred = np.argmax(np.bincount(this_pred))\n",
    "            prediction.append(this_pred)\n",
    "            probability.append(this_prob)\n",
    "        prediction = np.array(prediction)\n",
    "        probability = np.array(probability)\n",
    "        return prediction, probability\n",
    "    \n",
    "    def evaluate(self, x, record, label, roc=False):\n",
    "        pred, prob = self.predict(x, record)\n",
    "        acc = np.mean(pred == label)\n",
    "        report = sklearn.metrics.classification_report(label, pred)\n",
    "        if roc:\n",
    "            fpr, tpr, thresholds = sklearn.metrics.roc_curve(label, prob)\n",
    "            plt.figure()\n",
    "            plt.plot(fpr, tpr)\n",
    "            plt.title('ROC Curve')\n",
    "            plt.xlabel('False positive rate')\n",
    "            plt.ylabel('True positive rate')\n",
    "            plt.show()\n",
    "        return acc, report"
   ]
  },
  {
   "cell_type": "code",
   "execution_count": null,
   "metadata": {
    "colab": {
     "base_uri": "https://localhost:8080/"
    },
    "id": "kDjd8gidYSbt",
    "outputId": "e097727b-d2aa-48b7-90f6-1ee48c41a81c"
   },
   "outputs": [
    {
     "name": "stderr",
     "output_type": "stream",
     "text": [
      "CQT feature: 100%|##############################################| 5400/5400 [08:49<00:00, 10.21it/s]\n",
      "CQT feature: 100%|##############################################| 3960/3960 [06:36<00:00,  9.99it/s]\n",
      "CQT feature: 100%|##############################################| 1500/1500 [02:29<00:00, 10.05it/s]\n",
      "CQT feature: 100%|##############################################| 3000/3000 [04:50<00:00, 10.32it/s]\n"
     ]
    }
   ],
   "source": [
    "wsize_list =  [0.3,0.5]\n",
    "n_list = [50]\n",
    "\n",
    "\n",
    "acc_list_svm = []\n",
    "wsize_list_svm =[]\n",
    "n_list_svm = []\n",
    "for w in (wsize_list):\n",
    "  for n in (n_list):\n",
    "    x_train, y_train, record_train = alc_feature.get_cqt(data_train, label_train, wsize = w)\n",
    "    x_balance, y_balance = smote.fit_resample(x_train, y_train)\n",
    "    x_dev1, y_dev1, record_dev1 = alc_feature.get_cqt(data_dev1, label_dev1, wsize = w)\n",
    "    x_dev2, y_dev2, record_dev2 = alc_feature.get_cqt(data_dev2, label_dev2, wsize = w)\n",
    "    x_test, y_test, record_test = alc_feature.get_cqt(data_test, label_test, wsize = w)\n",
    "\n",
    "    pca = sklearn.decomposition.PCA(n_components=n)\n",
    "    pca.fit(x_train)\n",
    "    x_train = pca.transform(x_train)\n",
    "    x_balance = pca.transform(x_balance)\n",
    "    x_dev1 = pca.transform(x_dev1)\n",
    "    x_dev2 = pca.transform(x_dev2)\n",
    "    x_test = pca.transform(x_test)\n",
    "\n",
    "    model = ALCModel('svm')\n",
    "    # model.fit(x_train, y_train)\n",
    "    model.fit(x_balance, y_balance)\n",
    "    acc, report = model.evaluate(x_test, record_test, label_test, roc=True)\n",
    "    acc_list_svm.append(acc)\n",
    "    wsize_list_svm.append(w)\n",
    "    n_list_svm.append(n)\n",
    "    print(report)"
   ]
  },
  {
   "cell_type": "code",
   "execution_count": null,
   "metadata": {
    "id": "nfz8on05_Ltb"
   },
   "outputs": [],
   "source": [
    "wsize_list =  [0.1,0.3,0.5]\n",
    "n_list = [50]\n",
    "\n",
    "\n",
    "acc_list_svm = []\n",
    "wsize_list_svm =[]\n",
    "n_list_svm = []\n",
    "for w in (wsize_list):\n",
    "  for n in (n_list):\n",
    "    x_train, y_train, record_train = alc_feature.get_cqt(data_train, label_train, wsize = w)\n",
    "    x_balance, y_balance = smote.fit_resample(x_train, y_train)\n",
    "    x_dev1, y_dev1, record_dev1 = alc_feature.get_cqt(data_dev1, label_dev1, wsize = w)\n",
    "    x_dev2, y_dev2, record_dev2 = alc_feature.get_cqt(data_dev2, label_dev2, wsize = w)\n",
    "    x_test, y_test, record_test = alc_feature.get_cqt(data_test, label_test, wsize = w)\n",
    "\n",
    "    pca = sklearn.decomposition.PCA(n_components=n)\n",
    "    pca.fit(x_train)\n",
    "    x_train = pca.transform(x_train)\n",
    "    x_balance = pca.transform(x_balance)\n",
    "    x_dev1 = pca.transform(x_dev1)\n",
    "    x_dev2 = pca.transform(x_dev2)\n",
    "    x_test = pca.transform(x_test)\n",
    "\n",
    "    model = ALCModel('svm')\n",
    "    # model.fit(x_train, y_train)\n",
    "    model.fit(x_balance, y_balance)\n",
    "    acc, report = model.evaluate(x_test, record_test, label_test, roc=True)\n",
    "    acc_list_svm.append(acc)\n",
    "    wsize_list_svm.append(w)\n",
    "    n_list_svm.append(n)\n",
    "    print(report)"
   ]
  },
  {
   "cell_type": "code",
   "execution_count": null,
   "metadata": {
    "colab": {
     "base_uri": "https://localhost:8080/"
    },
    "id": "WxQ6w90mN5aM",
    "outputId": "dfa90b26-d756-419f-de27-179e49a746f4"
   },
   "outputs": [
    {
     "name": "stdout",
     "output_type": "stream",
     "text": [
      "[0.5826666666666667]\n",
      "[0.1]\n",
      "[]\n"
     ]
    }
   ],
   "source": [
    "print(acc_list_svm)\n",
    "print(wsize_list_svm)\n",
    "print(n_list_svm)"
   ]
  },
  {
   "cell_type": "code",
   "execution_count": null,
   "metadata": {
    "id": "vbY9ckig62yC"
   },
   "outputs": [],
   "source": [
    "\n",
    "\n",
    "acc_list_lr = []\n",
    "wsize_list_lr =[]\n",
    "n_list_lr = []\n",
    "for w in (wsize_list):\n",
    "  for n in (n_list):\n",
    "    x_train, y_train, record_train = alc_feature.get_cqt(data_train, label_train, wsize = w)\n",
    "    x_balance, y_balance = smote.fit_resample(x_train, y_train)\n",
    "    x_dev1, y_dev1, record_dev1 = alc_feature.get_cqt(data_dev1, label_dev1, wsize = w)\n",
    "    x_dev2, y_dev2, record_dev2 = alc_feature.get_cqt(data_dev2, label_dev2, wsize = w)\n",
    "    x_test, y_test, record_test = alc_feature.get_cqt(data_test, label_test, wsize = w)\n",
    "\n",
    "    pca = sklearn.decomposition.PCA(n_components=n)\n",
    "    pca.fit(x_train)\n",
    "    x_train = pca.transform(x_train)\n",
    "    x_balance = pca.transform(x_balance)\n",
    "    x_dev1 = pca.transform(x_dev1)\n",
    "    x_dev2 = pca.transform(x_dev2)\n",
    "    x_test = pca.transform(x_test)\n",
    "\n",
    "    model = ALCModel('lr')\n",
    "    # model.fit(x_train, y_train)\n",
    "    model.fit(x_balance, y_balance)\n",
    "    acc, report = model.evaluate(x_test, record_test, label_test, roc=True)\n",
    "    acc_list_lr.append(acc)\n",
    "    wsize_list_lr.append(w)\n",
    "    n_list_lr.append(n)\n",
    "    print(report)\n",
    "\n",
    "acc_list_forest = []\n",
    "wsize_list_forest =[]\n",
    "n_list_forest = []\n",
    "for w in (wsize_list):\n",
    "  for n in (n_list):\n",
    "    x_train, y_train, record_train = alc_feature.get_cqt(data_train, label_train, wsize = w)\n",
    "    x_balance, y_balance = smote.fit_resample(x_train, y_train)\n",
    "    x_dev1, y_dev1, record_dev1 = alc_feature.get_cqt(data_dev1, label_dev1, wsize = w)\n",
    "    x_dev2, y_dev2, record_dev2 = alc_feature.get_cqt(data_dev2, label_dev2, wsize = w)\n",
    "    x_test, y_test, record_test = alc_feature.get_cqt(data_test, label_test, wsize = w)\n",
    "\n",
    "\n",
    "    pca = sklearn.decomposition.PCA(n_components=n)\n",
    "    pca.fit(x_train)\n",
    "    x_train = pca.transform(x_train)\n",
    "    x_balance = pca.transform(x_balance)\n",
    "    x_dev1 = pca.transform(x_dev1)\n",
    "    x_dev2 = pca.transform(x_dev2)\n",
    "    x_test = pca.transform(x_test)\n",
    "\n",
    "    model = ALCModel('forest')\n",
    "    # model.fit(x_train, y_train)\n",
    "    model.fit(x_balance, y_balance)\n",
    "    acc, report = model.evaluate(x_test, record_test, label_test, roc=True)\n",
    "    acc_list_forest.append(acc)\n",
    "    wsize_list_forest.append(w)\n",
    "    n_list_forest.append(n)\n",
    "    print(report)\n",
    "\n",
    "acc_list_ada = []\n",
    "wsize_list_ada =[]\n",
    "n_list_ada = []\n",
    "for w in (wsize_list):\n",
    "  for n in (n_list):\n",
    "    x_train, y_train, record_train = alc_feature.get_cqt(data_train, label_train, wsize = w)\n",
    "    x_balance, y_balance = smote.fit_resample(x_train, y_train)\n",
    "    x_dev1, y_dev1, record_dev1 = alc_feature.get_cqt(data_dev1, label_dev1, wsize = w)\n",
    "    x_dev2, y_dev2, record_dev2 = alc_feature.get_cqt(data_dev2, label_dev2, wsize = w)\n",
    "    x_test, y_test, record_test = alc_feature.get_cqt(data_test, label_test, wsize = w)\n",
    "\n",
    "\n",
    "    pca = sklearn.decomposition.PCA(n_components=n)\n",
    "    pca.fit(x_train)\n",
    "    x_train = pca.transform(x_train)\n",
    "    x_balance = pca.transform(x_balance)\n",
    "    x_dev1 = pca.transform(x_dev1)\n",
    "    x_dev2 = pca.transform(x_dev2)\n",
    "    x_test = pca.transform(x_test)\n",
    "\n",
    "    model = ALCModel('adaboost')\n",
    "    # model.fit(x_train, y_train)\n",
    "    model.fit(x_balance, y_balance)\n",
    "    acc, report = model.evaluate(x_test, record_test, label_test, roc=True)\n",
    "    print(report)\n",
    "    acc_list_ada.append(acc)\n",
    "    wsize_list_ada.append(w)\n",
    "    n_list_ada.append(n)\n",
    "    print(report)\n",
    "  "
   ]
  },
  {
   "cell_type": "code",
   "execution_count": null,
   "metadata": {
    "colab": {
     "base_uri": "https://localhost:8080/",
     "height": 703
    },
    "id": "cI5aWu56sOBb",
    "outputId": "8d67a7ad-b08c-4731-ba24-4423e2e16deb"
   },
   "outputs": [
    {
     "name": "stderr",
     "output_type": "stream",
     "text": [
      "CQT feature: 100%|##############################################| 5400/5400 [08:29<00:00, 10.59it/s]\n",
      "CQT feature: 100%|##############################################| 3960/3960 [06:24<00:00, 10.30it/s]\n",
      "CQT feature: 100%|##############################################| 1500/1500 [02:24<00:00, 10.42it/s]\n",
      "CQT feature: 100%|##############################################| 3000/3000 [04:39<00:00, 10.75it/s]\n"
     ]
    },
    {
     "data": {
      "image/png": "[encoded data removed]",
      "text/plain": [
       "<Figure size 432x288 with 1 Axes>"
      ]
     },
     "metadata": {
      "needs_background": "light",
      "tags": []
     },
     "output_type": "display_data"
    },
    {
     "name": "stderr",
     "output_type": "stream",
     "text": [
      "\r",
      "CQT feature:   0%|                                                         | 0/5400 [00:00<?, ?it/s]"
     ]
    },
    {
     "name": "stdout",
     "output_type": "stream",
     "text": [
      "              precision    recall  f1-score   support\n",
      "\n",
      "           0       0.57      0.48      0.52      1500\n",
      "           1       0.55      0.64      0.59      1500\n",
      "\n",
      "    accuracy                           0.56      3000\n",
      "   macro avg       0.56      0.56      0.56      3000\n",
      "weighted avg       0.56      0.56      0.56      3000\n",
      "\n",
      "              precision    recall  f1-score   support\n",
      "\n",
      "           0       0.57      0.48      0.52      1500\n",
      "           1       0.55      0.64      0.59      1500\n",
      "\n",
      "    accuracy                           0.56      3000\n",
      "   macro avg       0.56      0.56      0.56      3000\n",
      "weighted avg       0.56      0.56      0.56      3000\n",
      "\n"
     ]
    },
    {
     "name": "stderr",
     "output_type": "stream",
     "text": [
      "CQT feature: 100%|##############################################| 5400/5400 [08:32<00:00, 10.53it/s]\n",
      "CQT feature:  83%|######################################        | 3273/3960 [05:28<01:57,  5.84it/s]"
     ]
    }
   ],
   "source": [
    "wsize_list =  [0.1,0.2,0.3,0.4]\n",
    "n_list = [50]\n",
    "acc_list_ada = []\n",
    "wsize_list_ada =[]\n",
    "n_list_ada = []\n",
    "for w in (wsize_list):\n",
    "  for n in (n_list):\n",
    "    x_train, y_train, record_train = alc_feature.get_cqt(data_train, label_train, wsize = w)\n",
    "    x_balance, y_balance = smote.fit_resample(x_train, y_train)\n",
    "    x_dev1, y_dev1, record_dev1 = alc_feature.get_cqt(data_dev1, label_dev1, wsize = w)\n",
    "    x_dev2, y_dev2, record_dev2 = alc_feature.get_cqt(data_dev2, label_dev2, wsize = w)\n",
    "    x_test, y_test, record_test = alc_feature.get_cqt(data_test, label_test, wsize = w)\n",
    "\n",
    "\n",
    "    pca = sklearn.decomposition.PCA(n_components=n)\n",
    "    pca.fit(x_train)\n",
    "    x_train = pca.transform(x_train)\n",
    "    x_balance = pca.transform(x_balance)\n",
    "    x_dev1 = pca.transform(x_dev1)\n",
    "    x_dev2 = pca.transform(x_dev2)\n",
    "    x_test = pca.transform(x_test)\n",
    "\n",
    "    model = ALCModel('adaboost')\n",
    "    # model.fit(x_train, y_train)\n",
    "    model.fit(x_balance, y_balance)\n",
    "    acc, report = model.evaluate(x_test, record_test, label_test, roc=True)\n",
    "    print(report)\n",
    "    acc_list_ada.append(acc)\n",
    "    wsize_list_ada.append(w)\n",
    "    n_list_ada.append(n)\n",
    "    print(report)\n",
    "  "
   ]
  },
  {
   "cell_type": "code",
   "execution_count": 12,
   "metadata": {
    "colab": {
     "base_uri": "https://localhost:8080/",
     "height": 1000
    },
    "id": "15zwbiSO_gFK",
    "outputId": "a97caaa2-47a1-4dad-c7fe-bc7efb4e8a6f"
   },
   "outputs": [
    {
     "name": "stderr",
     "output_type": "stream",
     "text": [
      "CQT feature: 100%|##############################################| 5400/5400 [09:09<00:00,  9.83it/s]\n",
      "CQT feature: 100%|##############################################| 3960/3960 [06:26<00:00, 10.24it/s]\n",
      "CQT feature: 100%|##############################################| 1500/1500 [02:24<00:00, 10.37it/s]\n",
      "CQT feature: 100%|##############################################| 3000/3000 [04:38<00:00, 10.77it/s]\n"
     ]
    },
    {
     "data": {
      "image/png": "[encoded data removed]",
      "text/plain": [
       "<Figure size 432x288 with 1 Axes>"
      ]
     },
     "metadata": {
      "needs_background": "light",
      "tags": []
     },
     "output_type": "display_data"
    },
    {
     "name": "stderr",
     "output_type": "stream",
     "text": [
      "\r",
      "CQT feature:   0%|                                                         | 0/5400 [00:00<?, ?it/s]"
     ]
    },
    {
     "name": "stdout",
     "output_type": "stream",
     "text": [
      "              precision    recall  f1-score   support\n",
      "\n",
      "           0       0.53      0.71      0.61      1500\n",
      "           1       0.56      0.37      0.45      1500\n",
      "\n",
      "    accuracy                           0.54      3000\n",
      "   macro avg       0.55      0.54      0.53      3000\n",
      "weighted avg       0.55      0.54      0.53      3000\n",
      "\n"
     ]
    },
    {
     "name": "stderr",
     "output_type": "stream",
     "text": [
      "CQT feature: 100%|##############################################| 5400/5400 [08:33<00:00, 10.52it/s]\n",
      "CQT feature: 100%|##############################################| 3960/3960 [06:28<00:00, 10.19it/s]\n",
      "CQT feature: 100%|##############################################| 1500/1500 [02:26<00:00, 10.22it/s]\n",
      "CQT feature: 100%|##############################################| 3000/3000 [04:43<00:00, 10.60it/s]\n"
     ]
    },
    {
     "data": {
      "image/png": "[encoded data removed]",
      "text/plain": [
       "<Figure size 432x288 with 1 Axes>"
      ]
     },
     "metadata": {
      "needs_background": "light",
      "tags": []
     },
     "output_type": "display_data"
    },
    {
     "name": "stderr",
     "output_type": "stream",
     "text": [
      "\r",
      "CQT feature:   0%|                                                         | 0/5400 [00:00<?, ?it/s]"
     ]
    },
    {
     "name": "stdout",
     "output_type": "stream",
     "text": [
      "              precision    recall  f1-score   support\n",
      "\n",
      "           0       0.53      0.78      0.63      1500\n",
      "           1       0.59      0.31      0.40      1500\n",
      "\n",
      "    accuracy                           0.55      3000\n",
      "   macro avg       0.56      0.55      0.52      3000\n",
      "weighted avg       0.56      0.55      0.52      3000\n",
      "\n"
     ]
    },
    {
     "name": "stderr",
     "output_type": "stream",
     "text": [
      "CQT feature: 100%|##############################################| 5400/5400 [08:37<00:00, 10.44it/s]\n",
      "CQT feature: 100%|##############################################| 3960/3960 [06:35<00:00, 10.02it/s]\n",
      "CQT feature: 100%|##############################################| 1500/1500 [02:28<00:00, 10.09it/s]\n",
      "CQT feature: 100%|##############################################| 3000/3000 [04:45<00:00, 10.52it/s]\n"
     ]
    },
    {
     "data": {
      "image/png": "[encoded data removed]",
      "text/plain": [
       "<Figure size 432x288 with 1 Axes>"
      ]
     },
     "metadata": {
      "needs_background": "light",
      "tags": []
     },
     "output_type": "display_data"
    },
    {
     "name": "stderr",
     "output_type": "stream",
     "text": [
      "\r",
      "CQT feature:   0%|                                                         | 0/5400 [00:00<?, ?it/s]"
     ]
    },
    {
     "name": "stdout",
     "output_type": "stream",
     "text": [
      "              precision    recall  f1-score   support\n",
      "\n",
      "           0       0.53      0.73      0.61      1500\n",
      "           1       0.57      0.34      0.43      1500\n",
      "\n",
      "    accuracy                           0.54      3000\n",
      "   macro avg       0.55      0.54      0.52      3000\n",
      "weighted avg       0.55      0.54      0.52      3000\n",
      "\n"
     ]
    },
    {
     "name": "stderr",
     "output_type": "stream",
     "text": [
      "CQT feature: 100%|##############################################| 5400/5400 [08:43<00:00, 10.32it/s]\n",
      "CQT feature: 100%|##############################################| 3960/3960 [06:32<00:00, 10.09it/s]\n",
      "CQT feature: 100%|##############################################| 1500/1500 [02:27<00:00, 10.16it/s]\n",
      "CQT feature: 100%|##############################################| 3000/3000 [04:44<00:00, 10.53it/s]\n"
     ]
    },
    {
     "data": {
      "image/png": "[encoded data removed]",
      "text/plain": [
       "<Figure size 432x288 with 1 Axes>"
      ]
     },
     "metadata": {
      "needs_background": "light",
      "tags": []
     },
     "output_type": "display_data"
    },
    {
     "name": "stdout",
     "output_type": "stream",
     "text": [
      "              precision    recall  f1-score   support\n",
      "\n",
      "           0       0.53      0.74      0.62      1500\n",
      "           1       0.56      0.34      0.43      1500\n",
      "\n",
      "    accuracy                           0.54      3000\n",
      "   macro avg       0.55      0.54      0.52      3000\n",
      "weighted avg       0.55      0.54      0.52      3000\n",
      "\n"
     ]
    }
   ],
   "source": [
    "wsize_list =  [0.1,0.2,0.3,0.4]\n",
    "n_list = [50]\n",
    "\n",
    "\n",
    "acc_list_lr = []\n",
    "wsize_list_lr =[]\n",
    "n_list_lr = []\n",
    "for w in (wsize_list):\n",
    "  for n in (n_list):\n",
    "    x_train, y_train, record_train = alc_feature.get_cqt(data_train, label_train, wsize = w)\n",
    "    x_balance, y_balance = smote.fit_resample(x_train, y_train)\n",
    "    x_dev1, y_dev1, record_dev1 = alc_feature.get_cqt(data_dev1, label_dev1, wsize = w)\n",
    "    x_dev2, y_dev2, record_dev2 = alc_feature.get_cqt(data_dev2, label_dev2, wsize = w)\n",
    "    x_test, y_test, record_test = alc_feature.get_cqt(data_test, label_test, wsize = w)\n",
    "\n",
    "    pca = sklearn.decomposition.PCA(n_components=n)\n",
    "    pca.fit(x_train)\n",
    "    x_train = pca.transform(x_train)\n",
    "    x_balance = pca.transform(x_balance)\n",
    "    x_dev1 = pca.transform(x_dev1)\n",
    "    x_dev2 = pca.transform(x_dev2)\n",
    "    x_test = pca.transform(x_test)\n",
    "\n",
    "    model = ALCModel('lr')\n",
    "    # model.fit(x_train, y_train)\n",
    "    model.fit(x_balance, y_balance)\n",
    "    acc, report = model.evaluate(x_test, record_test, label_test, roc=True)\n",
    "    acc_list_lr.append(acc)\n",
    "    wsize_list_lr.append(w)\n",
    "    n_list_lr.append(n)\n",
    "    print(report)"
   ]
  },
  {
   "cell_type": "code",
   "execution_count": 13,
   "metadata": {
    "colab": {
     "base_uri": "https://localhost:8080/",
     "height": 1000
    },
    "id": "vScYgkEqV93T",
    "outputId": "fa5bcb9b-d24d-417f-d78d-5d93a5a4510a"
   },
   "outputs": [
    {
     "name": "stderr",
     "output_type": "stream",
     "text": [
      "CQT feature: 100%|##############################################| 5400/5400 [08:28<00:00, 10.62it/s]\n",
      "CQT feature: 100%|##############################################| 3960/3960 [06:24<00:00, 10.30it/s]\n",
      "CQT feature: 100%|##############################################| 1500/1500 [02:23<00:00, 10.47it/s]\n",
      "CQT feature: 100%|##############################################| 3000/3000 [04:41<00:00, 10.67it/s]\n"
     ]
    },
    {
     "data": {
      "image/png": "[encoded data removed]",
      "text/plain": [
       "<Figure size 432x288 with 1 Axes>"
      ]
     },
     "metadata": {
      "needs_background": "light",
      "tags": []
     },
     "output_type": "display_data"
    },
    {
     "name": "stderr",
     "output_type": "stream",
     "text": [
      "\r",
      "CQT feature:   0%|                                                         | 0/5400 [00:00<?, ?it/s]"
     ]
    },
    {
     "name": "stdout",
     "output_type": "stream",
     "text": [
      "              precision    recall  f1-score   support\n",
      "\n",
      "           0       0.53      0.71      0.61      1500\n",
      "           1       0.56      0.37      0.45      1500\n",
      "\n",
      "    accuracy                           0.54      3000\n",
      "   macro avg       0.55      0.54      0.53      3000\n",
      "weighted avg       0.55      0.54      0.53      3000\n",
      "\n"
     ]
    },
    {
     "name": "stderr",
     "output_type": "stream",
     "text": [
      "CQT feature: 100%|##############################################| 5400/5400 [08:36<00:00, 10.46it/s]\n",
      "CQT feature: 100%|##############################################| 3960/3960 [06:25<00:00, 10.26it/s]\n",
      "CQT feature: 100%|##############################################| 1500/1500 [02:24<00:00, 10.35it/s]\n",
      "CQT feature: 100%|##############################################| 3000/3000 [04:41<00:00, 10.67it/s]\n"
     ]
    },
    {
     "data": {
      "image/png": "[encoded data removed]",
      "text/plain": [
       "<Figure size 432x288 with 1 Axes>"
      ]
     },
     "metadata": {
      "needs_background": "light",
      "tags": []
     },
     "output_type": "display_data"
    },
    {
     "name": "stderr",
     "output_type": "stream",
     "text": [
      "\r",
      "CQT feature:   0%|                                                         | 0/5400 [00:00<?, ?it/s]"
     ]
    },
    {
     "name": "stdout",
     "output_type": "stream",
     "text": [
      "              precision    recall  f1-score   support\n",
      "\n",
      "           0       0.53      0.78      0.63      1500\n",
      "           1       0.59      0.31      0.40      1500\n",
      "\n",
      "    accuracy                           0.55      3000\n",
      "   macro avg       0.56      0.55      0.52      3000\n",
      "weighted avg       0.56      0.55      0.52      3000\n",
      "\n"
     ]
    },
    {
     "name": "stderr",
     "output_type": "stream",
     "text": [
      "CQT feature: 100%|##############################################| 5400/5400 [08:36<00:00, 10.46it/s]\n",
      "CQT feature: 100%|##############################################| 3960/3960 [06:28<00:00, 10.20it/s]\n",
      "CQT feature: 100%|##############################################| 1500/1500 [02:25<00:00, 10.32it/s]\n",
      "CQT feature: 100%|##############################################| 3000/3000 [04:42<00:00, 10.63it/s]\n"
     ]
    },
    {
     "data": {
      "image/png": "[encoded data removed]",
      "text/plain": [
       "<Figure size 432x288 with 1 Axes>"
      ]
     },
     "metadata": {
      "needs_background": "light",
      "tags": []
     },
     "output_type": "display_data"
    },
    {
     "name": "stderr",
     "output_type": "stream",
     "text": [
      "\r",
      "CQT feature:   0%|                                                         | 0/5400 [00:00<?, ?it/s]"
     ]
    },
    {
     "name": "stdout",
     "output_type": "stream",
     "text": [
      "              precision    recall  f1-score   support\n",
      "\n",
      "           0       0.53      0.73      0.61      1500\n",
      "           1       0.57      0.34      0.43      1500\n",
      "\n",
      "    accuracy                           0.54      3000\n",
      "   macro avg       0.55      0.54      0.52      3000\n",
      "weighted avg       0.55      0.54      0.52      3000\n",
      "\n"
     ]
    },
    {
     "name": "stderr",
     "output_type": "stream",
     "text": [
      "CQT feature: 100%|##############################################| 5400/5400 [08:40<00:00, 10.38it/s]\n",
      "CQT feature: 100%|##############################################| 3960/3960 [06:34<00:00, 10.04it/s]\n",
      "CQT feature: 100%|##############################################| 1500/1500 [02:27<00:00, 10.20it/s]\n",
      "CQT feature: 100%|##############################################| 3000/3000 [04:43<00:00, 10.57it/s]\n"
     ]
    },
    {
     "data": {
      "image/png": "[encoded data removed]",
      "text/plain": [
       "<Figure size 432x288 with 1 Axes>"
      ]
     },
     "metadata": {
      "needs_background": "light",
      "tags": []
     },
     "output_type": "display_data"
    },
    {
     "name": "stdout",
     "output_type": "stream",
     "text": [
      "              precision    recall  f1-score   support\n",
      "\n",
      "           0       0.53      0.74      0.62      1500\n",
      "           1       0.56      0.34      0.43      1500\n",
      "\n",
      "    accuracy                           0.54      3000\n",
      "   macro avg       0.55      0.54      0.52      3000\n",
      "weighted avg       0.55      0.54      0.52      3000\n",
      "\n"
     ]
    }
   ],
   "source": [
    "wsize_list =  [0.1,0.2,0.3,0.4]\n",
    "n_list = [55]\n",
    "\n",
    "\n",
    "acc_list_lr = []\n",
    "wsize_list_lr =[]\n",
    "n_list_lr = []\n",
    "for w in (wsize_list):\n",
    "  for n in (n_list):\n",
    "    x_train, y_train, record_train = alc_feature.get_cqt(data_train, label_train, wsize = w)\n",
    "    x_balance, y_balance = smote.fit_resample(x_train, y_train)\n",
    "    x_dev1, y_dev1, record_dev1 = alc_feature.get_cqt(data_dev1, label_dev1, wsize = w)\n",
    "    x_dev2, y_dev2, record_dev2 = alc_feature.get_cqt(data_dev2, label_dev2, wsize = w)\n",
    "    x_test, y_test, record_test = alc_feature.get_cqt(data_test, label_test, wsize = w)\n",
    "\n",
    "    pca = sklearn.decomposition.PCA(n_components=n)\n",
    "    pca.fit(x_train)\n",
    "    x_train = pca.transform(x_train)\n",
    "    x_balance = pca.transform(x_balance)\n",
    "    x_dev1 = pca.transform(x_dev1)\n",
    "    x_dev2 = pca.transform(x_dev2)\n",
    "    x_test = pca.transform(x_test)\n",
    "\n",
    "    model = ALCModel('lr')\n",
    "    # model.fit(x_train, y_train)\n",
    "    model.fit(x_balance, y_balance)\n",
    "    acc, report = model.evaluate(x_test, record_test, label_test, roc=True)\n",
    "    acc_list_lr.append(acc)\n",
    "    wsize_list_lr.append(w)\n",
    "    n_list_lr.append(n)\n",
    "    print(report)"
   ]
  },
  {
   "cell_type": "code",
   "execution_count": null,
   "metadata": {
    "id": "-jlcaqD4YQoG"
   },
   "outputs": [],
   "source": []
  },
  {
   "cell_type": "code",
   "execution_count": null,
   "metadata": {
    "id": "j_uDoeDpYOmZ"
   },
   "outputs": [],
   "source": []
  },
  {
   "cell_type": "code",
   "execution_count": null,
   "metadata": {
    "id": "JhvJlOg662yE"
   },
   "outputs": [],
   "source": [
    "model = ALCModel('lr')\n",
    "# model.fit(x_train, y_train)\n",
    "model.fit(x_balance, y_balance)\n",
    "acc, report = model.evaluate(x_test, record_test, label_test, roc=True)\n",
    "print(report)"
   ]
  },
  {
   "cell_type": "code",
   "execution_count": null,
   "metadata": {
    "id": "_XUrOI-v62yG"
   },
   "outputs": [],
   "source": [
    "model = ALCModel('forest')\n",
    "# model.fit(x_train, y_train)\n",
    "model.fit(x_balance, y_balance)\n",
    "acc, report = model.evaluate(x_test, record_test, label_test, roc=True)\n",
    "print(report)"
   ]
  },
  {
   "cell_type": "code",
   "execution_count": null,
   "metadata": {
    "id": "IUjJww0z62yJ"
   },
   "outputs": [],
   "source": [
    "model = ALCModel('adaboost')\n",
    "# model.fit(x_train, y_train)\n",
    "model.fit(x_balance, y_balance)\n",
    "acc, report = model.evaluate(x_test, record_test, label_test, roc=True)\n",
    "print(report)"
   ]
  },
  {
   "cell_type": "code",
   "execution_count": null,
   "metadata": {
    "id": "VTog0ZVJ62yL"
   },
   "outputs": [],
   "source": []
  }
 ],
 "metadata": {
  "colab": {
   "collapsed_sections": [],
   "name": "featurev2(1).ipynb",
   "provenance": []
  },
  "kernelspec": {
   "display_name": "Python 3",
   "language": "python",
   "name": "python3"
  },
  "language_info": {
   "codemirror_mode": {
    "name": "ipython",
    "version": 3
   },
   "file_extension": ".py",
   "mimetype": "text/x-python",
   "name": "python",
   "nbconvert_exporter": "python",
   "pygments_lexer": "ipython3",
   "version": "3.6.8"
  }
 },
 "nbformat": 4,
 "nbformat_minor": 1
}
