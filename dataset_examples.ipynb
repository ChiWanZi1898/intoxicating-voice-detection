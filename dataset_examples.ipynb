{
 "cells": [
  {
   "cell_type": "code",
   "execution_count": 8,
   "metadata": {},
   "outputs": [],
   "source": [
    "from dataset import ALCDataset\n",
    "import sys\n",
    "\n",
    "alc_dataset = ALCDataset('/Users/hongyuzhu/Google Drive/alc/')"
   ]
  },
  {
   "cell_type": "code",
   "execution_count": 17,
   "metadata": {
    "pycharm": {
     "is_executing": true
    },
    "scrolled": true
   },
   "outputs": [
    {
     "name": "stdout",
     "output_type": "stream",
     "text": [
      "00002 left.\r"
     ]
    }
   ],
   "source": [
    "data, meta = alc_dataset.load_data('train', num_threads=8, percentage=1.0)"
   ]
  },
  {
   "cell_type": "code",
   "execution_count": 24,
   "metadata": {},
   "outputs": [
    {
     "name": "stdout",
     "output_type": "stream",
     "text": [
      "Memory Usage [data]: 3848.072940826416 MB\n"
     ]
    }
   ],
   "source": [
    "total = 0\n",
    "for d in data:\n",
    "    total += d.nbytes\n",
    "print('Memory Usage [data]:', total / 1024 ** 2, 'MB')"
   ]
  },
  {
   "cell_type": "code",
   "execution_count": 32,
   "metadata": {},
   "outputs": [],
   "source": [
    "data_x, data_y = alc_dataset.slice_data(data, meta, 5)"
   ]
  },
  {
   "cell_type": "code",
   "execution_count": 33,
   "metadata": {},
   "outputs": [
    {
     "name": "stdout",
     "output_type": "stream",
     "text": [
      "Memory Usage [data_x]: 3015.13671875 MB\n",
      "Memory Usage [data_y]: 0.07537841796875 MB\n",
      "(9880, 80000) (9880,)\n"
     ]
    }
   ],
   "source": [
    "print('Memory Usage [data_x]:', data_x.nbytes / 1024 ** 2, 'MB')\n",
    "print('Memory Usage [data_y]:', data_y.nbytes / 1024 ** 2, 'MB')\n",
    "print(data_x.shape, data_y.shape)"
   ]
  },
  {
   "cell_type": "code",
   "execution_count": null,
   "metadata": {},
   "outputs": [],
   "source": []
  }
 ],
 "metadata": {
  "kernelspec": {
   "display_name": "Python 3",
   "language": "python",
   "name": "python3"
  },
  "language_info": {
   "codemirror_mode": {
    "name": "ipython",
    "version": 3
   },
   "file_extension": ".py",
   "mimetype": "text/x-python",
   "name": "python",
   "nbconvert_exporter": "python",
   "pygments_lexer": "ipython3",
   "version": "3.8.5"
  }
 },
 "nbformat": 4,
 "nbformat_minor": 1
}
