{
 "cells": [
  {
   "cell_type": "code",
   "execution_count": 4,
   "metadata": {},
   "outputs": [
    {
     "ename": "ModuleNotFoundError",
     "evalue": "No module named 'sklearn'",
     "output_type": "error",
     "traceback": [
      "\u001b[0;31m---------------------------------------------------------------------------\u001b[0m",
      "\u001b[0;31mModuleNotFoundError\u001b[0m                       Traceback (most recent call last)",
      "\u001b[0;32m<ipython-input-4-10edf979775b>\u001b[0m in \u001b[0;36m<module>\u001b[0;34m\u001b[0m\n\u001b[1;32m      4\u001b[0m \u001b[0;32mimport\u001b[0m \u001b[0mmatplotlib\u001b[0m\u001b[0;34m.\u001b[0m\u001b[0mpyplot\u001b[0m \u001b[0;32mas\u001b[0m \u001b[0mplt\u001b[0m\u001b[0;34m\u001b[0m\u001b[0;34m\u001b[0m\u001b[0m\n\u001b[1;32m      5\u001b[0m \u001b[0;32mfrom\u001b[0m \u001b[0mtqdm\u001b[0m \u001b[0;32mimport\u001b[0m \u001b[0mtqdm\u001b[0m\u001b[0;34m\u001b[0m\u001b[0;34m\u001b[0m\u001b[0m\n\u001b[0;32m----> 6\u001b[0;31m \u001b[0;32mimport\u001b[0m \u001b[0msklearn\u001b[0m\u001b[0;34m\u001b[0m\u001b[0;34m\u001b[0m\u001b[0m\n\u001b[0m\u001b[1;32m      7\u001b[0m \u001b[0;32mfrom\u001b[0m \u001b[0msklearn\u001b[0m\u001b[0;34m.\u001b[0m\u001b[0mlinear_model\u001b[0m \u001b[0;32mimport\u001b[0m \u001b[0mLogisticRegression\u001b[0m\u001b[0;34m\u001b[0m\u001b[0;34m\u001b[0m\u001b[0m\n\u001b[1;32m      8\u001b[0m \u001b[0;32mfrom\u001b[0m \u001b[0msklearn\u001b[0m\u001b[0;34m.\u001b[0m\u001b[0msvm\u001b[0m \u001b[0;32mimport\u001b[0m \u001b[0mSVC\u001b[0m\u001b[0;34m\u001b[0m\u001b[0;34m\u001b[0m\u001b[0m\n",
      "\u001b[0;31mModuleNotFoundError\u001b[0m: No module named 'sklearn'"
     ]
    }
   ],
   "source": [
    "import numpy as np\n",
    "import os\n",
    "import scipy\n",
    "import matplotlib.pyplot as plt\n",
    "from tqdm import tqdm\n",
    "import sklearn\n",
    "from sklearn.linear_model import LogisticRegression\n",
    "from sklearn.svm import SVC\n",
    "from sklearn.ensemble import RandomForestClassifier\n",
    "from sklearn.ensemble import AdaBoostClassifier\n",
    "from imblearn.over_sampling import SMOTE\n",
    "import librosa\n",
    "from dataset import ALCDataset\n",
    "\n",
    "%matplotlib inline"
   ]
  },
  {
   "cell_type": "code",
   "execution_count": null,
   "metadata": {},
   "outputs": [],
   "source": [
    "import warnings\n",
    "warnings.filterwarnings('ignore')"
   ]
  },
  {
   "cell_type": "code",
   "execution_count": 3,
   "metadata": {},
   "outputs": [],
   "source": [
    "SR = 16000"
   ]
  },
  {
   "cell_type": "markdown",
   "metadata": {},
   "source": [
    "### Load data"
   ]
  },
  {
   "cell_type": "code",
   "execution_count": 3,
   "metadata": {},
   "outputs": [
    {
     "name": "stdout",
     "output_type": "stream",
     "text": [
      "00004 left.\r"
     ]
    }
   ],
   "source": [
    "alc_dataset = ALCDataset('/Users/mazeyu/Desktop/CMU/20fall/18797/project/code/data')\n",
    "data_train, label_train = alc_dataset.load_data('train', percentage=1.0, num_threads=4)\n",
    "data_dev1, label_dev1 = alc_dataset.load_data('d1', percentage=1.0, num_threads=4)\n",
    "data_dev2, label_dev2 = alc_dataset.load_data('d2', percentage=1.0, num_threads=4)\n",
    "data_test, label_test = alc_dataset.load_data('test', percentage=1.0, num_threads=4)"
   ]
  },
  {
   "cell_type": "code",
   "execution_count": 4,
   "metadata": {},
   "outputs": [
    {
     "name": "stdout",
     "output_type": "stream",
     "text": [
      "#train: 5400\n",
      "#dev1: 3960\n",
      "#dev2: 1500\n",
      "#test: 3000\n"
     ]
    }
   ],
   "source": [
    "assert len(data_train) == len(label_train)\n",
    "assert len(data_dev1) == len(label_dev1)\n",
    "assert len(data_dev2) == len(label_dev2)\n",
    "assert len(data_test) == len(label_test)\n",
    "\n",
    "print('#train: {}'.format(len(data_train)))\n",
    "print('#dev1: {}'.format(len(data_dev1)))\n",
    "print('#dev2: {}'.format(len(data_dev2)))\n",
    "print('#test: {}'.format(len(data_test)))"
   ]
  },
  {
   "cell_type": "markdown",
   "metadata": {},
   "source": [
    "### Feature extraction"
   ]
  },
  {
   "cell_type": "code",
   "execution_count": 9,
   "metadata": {},
   "outputs": [],
   "source": [
    "class ALCFeature:\n",
    "    def __init__(self, sr):\n",
    "        self.sr = sr\n",
    "        \n",
    "    def delete_silence(self, audio, top_db=20):\n",
    "        result = []\n",
    "        intervals = librosa.effects.split(audio, top_db=top_db, frame_length=2048, hop_length=512)\n",
    "        for interval in intervals:\n",
    "            result.append(audio[interval[0]: interval[1]])\n",
    "        result = np.concatenate(result)\n",
    "        return result\n",
    "        \n",
    "    def get_mfcc(self, data, label, n_mfcc=20, wsize=0.1, concat=5, scale=True):\n",
    "        x_mfcc = []\n",
    "        y_mfcc = []\n",
    "        record_mfcc = []\n",
    "        wsize = int(wsize * self.sr)\n",
    "        for i in tqdm(range(len(data)), ncols=100, ascii=True, desc='MFCC feature'):\n",
    "            audio = self.delete_silence(data[i])\n",
    "            x = librosa.feature.mfcc(audio, sr=self.sr, n_mfcc=n_mfcc, n_fft=2048, hop_length=512, win_length=wsize, window='hann')\n",
    "            if scale:\n",
    "                x = x - np.min(x, axis=1, keepdims=True)\n",
    "            for j in range(x.shape[1] // concat):\n",
    "                slice_ = x[:, j * concat: (j + 1) * concat]\n",
    "                x_mfcc.append(slice_.flatten())\n",
    "                y_mfcc.append(label[i])\n",
    "                record_mfcc.append(i)\n",
    "        x_mfcc = np.stack(x_mfcc)\n",
    "        y_mfcc = np.array(y_mfcc)\n",
    "        record_mfcc = np.array(record_mfcc)\n",
    "        return x_mfcc, y_mfcc, record_mfcc\n",
    "    \n",
    "    def get_pncc(self, data, label):\n",
    "        pass\n",
    "    \n",
    "    def get_cqt(self, data, label, n_chroma=12, wsize=0.1, concat=5, scale=True):\n",
    "        x_cqt = []\n",
    "        y_cqt = []\n",
    "        record_cqt = []\n",
    "        wind = np.hamming(int(wsize * self.sr))\n",
    "        for i in tqdm(range(len(data)), ncols=100, ascii=True, desc='CQT feature'):\n",
    "            audio = self.delete_silence(data[i])\n",
    "            x = librosa.feature.chroma_cqt(audio, sr=self.sr, n_chroma=n_chroma, hop_length=512, window=wind)\n",
    "            if scale:\n",
    "                x = x - np.min(x, axis=1, keepdims=True)\n",
    "            for j in range(x.shape[1] // concat):\n",
    "                slice_ = x[:, j * concat: (j + 1) * concat]\n",
    "                x_cqt.append(slice_.flatten())\n",
    "                y_cqt.append(label[i])\n",
    "                record_cqt.append(i)\n",
    "        x_cqt = np.stack(x_cqt)\n",
    "        y_cqt = np.array(y_cqt)\n",
    "        record_cqt = np.array(record_cqt)\n",
    "        return x_cqt, y_cqt, record_cqt"
   ]
  },
  {
   "cell_type": "code",
   "execution_count": null,
   "metadata": {},
   "outputs": [],
   "source": [
    "alc_feature = ALCFeature(SR)\n",
    "smote = SMOTE(random_state=0)\n",
    "\n",
    "# # MFCC\n",
    "# x_train, y_train, record_train = alc_feature.get_mfcc(data_train, label_train)\n",
    "# x_balance, y_balance = smote.fit_resample(x_train, y_train)\n",
    "# x_dev1, y_dev1, record_dev1 = alc_feature.get_mfcc(data_dev1, label_dev1)\n",
    "# x_dev2, y_dev2, record_dev2 = alc_feature.get_mfcc(data_dev2, label_dev2)\n",
    "# x_test, y_test, record_test = alc_feature.get_mfcc(data_test, label_test)\n",
    "\n",
    "# CQT\n",
    "x_train, y_train, record_train = alc_feature.get_cqt(data_train, label_train)\n",
    "x_balance, y_balance = smote.fit_resample(x_train, y_train)\n",
    "x_dev1, y_dev1, record_dev1 = alc_feature.get_cqt(data_dev1, label_dev1)\n",
    "x_dev2, y_dev2, record_dev2 = alc_feature.get_cqt(data_dev2, label_dev2)\n",
    "x_test, y_test, record_test = alc_feature.get_cqt(data_test, label_test)"
   ]
  },
  {
   "cell_type": "code",
   "execution_count": 28,
   "metadata": {},
   "outputs": [],
   "source": [
    "pca = sklearn.decomposition.PCA(n_components=50)\n",
    "pca.fit(x_train)\n",
    "x_train = pca.transform(x_train)\n",
    "x_balance = pca.transform(x_balance)\n",
    "x_dev1 = pca.transform(x_dev1)\n",
    "x_dev2 = pca.transform(x_dev2)\n",
    "x_test = pca.transform(x_test)"
   ]
  },
  {
   "cell_type": "markdown",
   "metadata": {},
   "source": [
    "### Classification model"
   ]
  },
  {
   "cell_type": "code",
   "execution_count": 29,
   "metadata": {},
   "outputs": [],
   "source": [
    "class ALCModel:\n",
    "    def __init__(self, method, verbose=None):\n",
    "        if method == 'lr':\n",
    "            if verbose is None:\n",
    "                verbose = 0\n",
    "            self.clf = LogisticRegression(verbose=verbose)\n",
    "        elif method == 'svm':\n",
    "            if verbose is None:\n",
    "                verbose = False\n",
    "            self.clf = SVC(C=1.0, kernel='rbf', verbose=verbose)\n",
    "        elif method == 'forest':\n",
    "            if verbose is None:\n",
    "                verbose = 0\n",
    "            self.clf = RandomForestClassifier(n_estimators=100, verbose=verbose)\n",
    "        elif method == 'adaboost':\n",
    "            self.clf = AdaBoostClassifier(n_estimators=100)\n",
    "        else:\n",
    "            pass\n",
    "        \n",
    "    def fit(self, x, y):\n",
    "        self.clf.fit(x, y)\n",
    "    \n",
    "    def predict(self, x, record):\n",
    "        prediction = []\n",
    "        probability = []\n",
    "        raw_pred = self.clf.predict(x)\n",
    "        for i in range(record[-1] + 1):\n",
    "            this_pred = raw_pred[record == i]\n",
    "            if len(this_pred) == 0:\n",
    "                this_prob = np.random.uniform(low=0.0, high=1.0)\n",
    "                this_pred = np.random.choice([0, 1])              \n",
    "            else:\n",
    "                this_prob = np.mean(this_pred)\n",
    "                this_pred = np.argmax(np.bincount(this_pred))\n",
    "            prediction.append(this_pred)\n",
    "            probability.append(this_prob)\n",
    "        prediction = np.array(prediction)\n",
    "        probability = np.array(probability)\n",
    "        return prediction, probability\n",
    "    \n",
    "    def evaluate(self, x, record, label, roc=False):\n",
    "        pred, prob = self.predict(x, record)\n",
    "        acc = np.mean(pred == label)\n",
    "        report = sklearn.metrics.classification_report(label, pred)\n",
    "        if roc:\n",
    "            fpr, tpr, thresholds = sklearn.metrics.roc_curve(label, prob)\n",
    "            plt.figure()\n",
    "            plt.plot(fpr, tpr)\n",
    "            plt.title('ROC Curve')\n",
    "            plt.xlabel('False positive rate')\n",
    "            plt.ylabel('True positive rate')\n",
    "            plt.show()\n",
    "        return acc, report"
   ]
  },
  {
   "cell_type": "code",
   "execution_count": null,
   "metadata": {},
   "outputs": [],
   "source": [
    "model = ALCModel('svm')\n",
    "# model.fit(x_train, y_train)\n",
    "model.fit(x_balance, y_balance)\n",
    "acc, report = model.evaluate(x_test, record_test, label_test, roc=True)\n",
    "print(report)"
   ]
  },
  {
   "cell_type": "code",
   "execution_count": null,
   "metadata": {},
   "outputs": [],
   "source": [
    "model = ALCModel('lr')\n",
    "# model.fit(x_train, y_train)\n",
    "model.fit(x_balance, y_balance)\n",
    "acc, report = model.evaluate(x_test, record_test, label_test, roc=True)\n",
    "print(report)"
   ]
  },
  {
   "cell_type": "code",
   "execution_count": null,
   "metadata": {},
   "outputs": [],
   "source": [
    "model = ALCModel('forest')\n",
    "# model.fit(x_train, y_train)\n",
    "model.fit(x_balance, y_balance)\n",
    "acc, report = model.evaluate(x_test, record_test, label_test, roc=True)\n",
    "print(report)"
   ]
  },
  {
   "cell_type": "code",
   "execution_count": null,
   "metadata": {},
   "outputs": [],
   "source": [
    "model = ALCModel('adaboost')\n",
    "# model.fit(x_train, y_train)\n",
    "model.fit(x_balance, y_balance)\n",
    "acc, report = model.evaluate(x_test, record_test, label_test, roc=True)\n",
    "print(report)"
   ]
  },
  {
   "cell_type": "code",
   "execution_count": null,
   "metadata": {},
   "outputs": [],
   "source": []
  }
 ],
 "metadata": {
  "kernelspec": {
   "display_name": "Python 3",
   "language": "python",
   "name": "python3"
  },
  "language_info": {
   "codemirror_mode": {
    "name": "ipython",
    "version": 3
   },
   "file_extension": ".py",
   "mimetype": "text/x-python",
   "name": "python",
   "nbconvert_exporter": "python",
   "pygments_lexer": "ipython3",
   "version": "3.9.0"
  }
 },
 "nbformat": 4,
 "nbformat_minor": 4
}
