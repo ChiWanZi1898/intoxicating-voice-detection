{
 "cells": [
  {
   "cell_type": "code",
   "execution_count": 25,
   "metadata": {},
   "outputs": [],
   "source": [
    "import numpy as np\n",
    "import os\n",
    "import scipy\n",
    "import matplotlib.pyplot as plt\n",
    "import sklearn\n",
    "from sklearn.linear_model import LogisticRegression\n",
    "from sklearn.svm import SVC\n",
    "from sklearn.ensemble import RandomForestClassifier\n",
    "from sklearn.ensemble import AdaBoostClassifier\n",
    "import librosa\n",
    "import librosa.display\n",
    "from dataset import ALCDataset\n",
    "\n",
    "%matplotlib inline"
   ]
  },
  {
   "cell_type": "code",
   "execution_count": 2,
   "metadata": {},
   "outputs": [],
   "source": [
    "SR = 16000\n",
    "SLICE = 5"
   ]
  },
  {
   "cell_type": "markdown",
   "metadata": {},
   "source": [
    "### Load data"
   ]
  },
  {
   "cell_type": "code",
   "execution_count": 3,
   "metadata": {},
   "outputs": [
    {
     "name": "stdout",
     "output_type": "stream",
     "text": [
      "00005 left.\r"
     ]
    }
   ],
   "source": [
    "alc_dataset = ALCDataset('/Users/mazeyu/Desktop/CMU/20fall/18797/project/code/data')\n",
    "data_train, meta_train = alc_dataset.load_data('train', percentage=1.0, num_threads=4)\n",
    "data_train, meta_train = alc_dataset.slice_data(data_train, meta_train, SLICE)\n",
    "data_dev1, meta_dev1 = alc_dataset.load_data('d1', percentage=1.0, num_threads=4)\n",
    "data_dev1, meta_dev1 = alc_dataset.slice_data(data_dev1, meta_dev1, SLICE)\n",
    "data_dev2, meta_dev2 = alc_dataset.load_data('d2', percentage=1.0, num_threads=4)\n",
    "data_dev2, meta_dev2 = alc_dataset.slice_data(data_dev2, meta_dev2, SLICE)\n",
    "data_test, meta_test = alc_dataset.load_data('test', percentage=1.0, num_threads=4)\n",
    "data_test, meta_test = alc_dataset.slice_data(data_test, meta_test, SLICE)"
   ]
  },
  {
   "cell_type": "code",
   "execution_count": 4,
   "metadata": {},
   "outputs": [
    {
     "name": "stdout",
     "output_type": "stream",
     "text": [
      "#train: 9880\n",
      "#dev1: 6760\n",
      "#dev2: 2555\n",
      "#test: 5220\n"
     ]
    }
   ],
   "source": [
    "assert len(data_train) == len(meta_train)\n",
    "assert len(data_dev1) == len(meta_dev1)\n",
    "assert len(data_dev2) == len(meta_dev2)\n",
    "assert len(data_test) == len(meta_test)\n",
    "\n",
    "print('#train: {}'.format(len(data_train)))\n",
    "print('#dev1: {}'.format(len(data_dev1)))\n",
    "print('#dev2: {}'.format(len(data_dev2)))\n",
    "print('#test: {}'.format(len(data_test)))"
   ]
  },
  {
   "cell_type": "markdown",
   "metadata": {},
   "source": [
    "### Feature extraction"
   ]
  },
  {
   "cell_type": "code",
   "execution_count": 5,
   "metadata": {},
   "outputs": [],
   "source": [
    "class ALCFeature:\n",
    "    def __init__(self, sr):\n",
    "        self.sr = sr\n",
    "        \n",
    "    def get_mfcc(self, data, n_mfcc=20, scale=False, show=0):\n",
    "        mfcc = []\n",
    "        for i, audio in enumerate(data):\n",
    "            mfcc_ = librosa.feature.mfcc(audio, sr=self.sr, n_mfcc=n_mfcc)\n",
    "            if scale:\n",
    "                mfcc_ = sklearn.preprocessing.scale(mfcc_, axis=1)\n",
    "            if i < show:\n",
    "                plt.figure()\n",
    "                librosa.display.specshow(mfcc_, sr=self.sr, x_axis='time')\n",
    "                plt.show()\n",
    "            mfcc.append(mfcc_.flatten())\n",
    "        mfcc = np.stack(mfcc, axis=0)\n",
    "        return mfcc\n",
    "    \n",
    "    def get_cqt(self, data, wind_length, scale=False, show=0):\n",
    "        cqt = []\n",
    "        wind = np.hanning(int(wind_length * self.sr))\n",
    "        for i, audio in enumerate(data):\n",
    "            cqt_ = librosa.feature.chroma_cqt(audio, sr=self.sr, window=wind)\n",
    "            if scale:\n",
    "                cqt_ = sklearn.preprocessing.scale(cqt_, axis=1)\n",
    "            if i < show:\n",
    "                plt.figure()\n",
    "                librosa.display.specshow(cqt_, sr=self.sr, x_axis='time')\n",
    "                plt.show()\n",
    "            cqt.append(cqt_.flatten())\n",
    "        cqt = np.stack(cqt, axis=0)\n",
    "        return cqt\n",
    "    \n",
    "    def pncc(self, data):\n",
    "        pass"
   ]
  },
  {
   "cell_type": "code",
   "execution_count": 6,
   "metadata": {},
   "outputs": [],
   "source": [
    "alc_feature = ALCFeature(SR)\n",
    "\n",
    "x_train = alc_feature.get_mfcc(data_train)\n",
    "x_dev1 = alc_feature.get_mfcc(data_dev1)\n",
    "x_dev2 = alc_feature.get_mfcc(data_dev2)\n",
    "x_test = alc_feature.get_mfcc(data_test)\n",
    "y_train = meta_train\n",
    "y_dev1 = meta_dev1\n",
    "y_dev2 = meta_dev2\n",
    "y_test = meta_test"
   ]
  },
  {
   "cell_type": "code",
   "execution_count": 11,
   "metadata": {},
   "outputs": [],
   "source": [
    "pca = sklearn.decomposition.PCA(n_components=50)\n",
    "pca.fit(x_train)\n",
    "x_train = pca.transform(x_train)\n",
    "x_dev1 = pca.transform(x_dev1)\n",
    "x_dev2 = pca.transform(x_dev2)\n",
    "x_test = pca.transform(x_test)"
   ]
  },
  {
   "cell_type": "markdown",
   "metadata": {},
   "source": [
    "### Classification model"
   ]
  },
  {
   "cell_type": "code",
   "execution_count": 33,
   "metadata": {},
   "outputs": [],
   "source": [
    "class ALCModel:\n",
    "    def __init__(self, method):\n",
    "        if method == 'lr':\n",
    "            self.clf = linear_model.LogisticRegression()\n",
    "        elif method == 'svm':\n",
    "            self.clf = SVC(C=1.0, kernel='rbf')\n",
    "        elif method == 'forest':\n",
    "            self.clf = RandomForestClassifier(n_estimators=100)\n",
    "        elif method == 'adaboost':\n",
    "            self.clf = AdaBoostClassifier(n_estimators=100)\n",
    "        else:\n",
    "            pass\n",
    "        \n",
    "    def fit(self, x, y):\n",
    "        self.clf.fit(x, y)\n",
    "    \n",
    "    def predict(self, x):\n",
    "        pred = self.clf.predict(x)\n",
    "        return pred\n",
    "    \n",
    "    def evaluate(self, x, y, roc=False):\n",
    "        pred = self.clf.predict(x)\n",
    "        acc = self.clf.score(x, y)\n",
    "        report = sklearn.metrics.classification_report(y, pred)\n",
    "        if roc:\n",
    "            fpr, tpr, thresholds = sklearn.metrics.roc_curve(y, pred)\n",
    "            plt.figure()\n",
    "            plt.plot(fpr, tpr)\n",
    "            plt.title('ROC Curve')\n",
    "            plt.xlabel('False positive rate')\n",
    "            plt.ylabel('True positive rate')\n",
    "            plt.show()\n",
    "        return acc, report"
   ]
  },
  {
   "cell_type": "code",
   "execution_count": 36,
   "metadata": {},
   "outputs": [],
   "source": [
    "model = ALCModel('svm')\n",
    "model.fit(x_train, y_train)"
   ]
  },
  {
   "cell_type": "code",
   "execution_count": 37,
   "metadata": {},
   "outputs": [
    {
     "data": {
      "image/png": "[encoded data removed]",
      "text/plain": [
       "<Figure size 432x288 with 1 Axes>"
      ]
     },
     "metadata": {
      "needs_background": "light"
     },
     "output_type": "display_data"
    },
    {
     "name": "stdout",
     "output_type": "stream",
     "text": [
      "              precision    recall  f1-score   support\n",
      "\n",
      "           0       0.50      0.99      0.66      2540\n",
      "           1       0.79      0.05      0.10      2680\n",
      "\n",
      "    accuracy                           0.51      5220\n",
      "   macro avg       0.64      0.52      0.38      5220\n",
      "weighted avg       0.65      0.51      0.37      5220\n",
      "\n"
     ]
    }
   ],
   "source": [
    "acc, report = model.evaluate(x_test, y_test, roc=True)\n",
    "print(report)"
   ]
  },
  {
   "cell_type": "code",
   "execution_count": null,
   "metadata": {},
   "outputs": [],
   "source": []
  }
 ],
 "metadata": {
  "kernelspec": {
   "display_name": "Python 3",
   "language": "python",
   "name": "python3"
  },
  "language_info": {
   "codemirror_mode": {
    "name": "ipython",
    "version": 3
   },
   "file_extension": ".py",
   "mimetype": "text/x-python",
   "name": "python",
   "nbconvert_exporter": "python",
   "pygments_lexer": "ipython3",
   "version": "3.7.9"
  }
 },
 "nbformat": 4,
 "nbformat_minor": 4
}
