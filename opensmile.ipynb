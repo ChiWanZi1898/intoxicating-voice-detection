{
 "cells": [
  {
   "cell_type": "code",
   "execution_count": 1,
   "metadata": {},
   "outputs": [],
   "source": [
    "import numpy as np\n",
    "import os\n",
    "import scipy\n",
    "import matplotlib.pyplot as plt\n",
    "import sklearn\n",
    "from sklearn.decomposition import PCA, FastICA\n",
    "from sklearn.linear_model import LogisticRegression\n",
    "from sklearn.neighbors import KNeighborsClassifier\n",
    "from sklearn.svm import LinearSVC, SVC\n",
    "from sklearn.ensemble import RandomForestClassifier, BaggingClassifier, GradientBoostingClassifier\n",
    "from sklearn.ensemble import AdaBoostClassifier\n",
    "from sklearn.metrics import classification_report, plot_roc_curve\n",
    "from imblearn.over_sampling import SMOTE\n",
    "\n",
    "plt.style.use('seaborn')\n",
    "%matplotlib inline"
   ]
  },
  {
   "cell_type": "code",
   "execution_count": 2,
   "metadata": {},
   "outputs": [],
   "source": [
    "PATH = \"/Users/mazeyu/Desktop/CMU/20fall/18797/project/features\""
   ]
  },
  {
   "cell_type": "code",
   "execution_count": 3,
   "metadata": {},
   "outputs": [],
   "source": [
    "train_x = np.load(os.path.join(PATH, 'train_x.npy'), allow_pickle=True)\n",
    "train_y = np.load(os.path.join(PATH, 'train_y.npy'), allow_pickle=True)\n",
    "dev1_x = np.load(os.path.join(PATH, 'd1_x.npy'), allow_pickle=True)\n",
    "dev1_y = np.load(os.path.join(PATH, 'd1_y.npy'), allow_pickle=True)\n",
    "dev2_x = np.load(os.path.join(PATH, 'd2_x.npy'), allow_pickle=True)\n",
    "dev2_y = np.load(os.path.join(PATH, 'd2_y.npy'), allow_pickle=True)\n",
    "test_x = np.load(os.path.join(PATH, 'test_x.npy'), allow_pickle=True)\n",
    "test_y = np.load(os.path.join(PATH, 'test_y.npy'), allow_pickle=True)"
   ]
  },
  {
   "cell_type": "code",
   "execution_count": 4,
   "metadata": {},
   "outputs": [],
   "source": [
    "smote = SMOTE(random_state=0)\n",
    "balance_x, balance_y = smote.fit_resample(train_x, train_y)"
   ]
  },
  {
   "cell_type": "code",
   "execution_count": 5,
   "metadata": {},
   "outputs": [
    {
     "name": "stdout",
     "output_type": "stream",
     "text": [
      "train: (5400, 4368) (5400,)\n",
      "dev1: (3960, 4368) (3960,)\n",
      "dev2: (1500, 4368) (1500,)\n",
      "test: (3000, 4368) (3000,)\n",
      "balance: (7200, 4368) (7200,)\n"
     ]
    }
   ],
   "source": [
    "print('train:', train_x.shape, train_y.shape)\n",
    "print('dev1:', dev1_x.shape, dev1_y.shape)\n",
    "print('dev2:', dev2_x.shape, dev2_y.shape)\n",
    "print('test:', test_x.shape, test_y.shape)\n",
    "print('balance:', balance_x.shape, balance_y.shape)"
   ]
  },
  {
   "cell_type": "code",
   "execution_count": 6,
   "metadata": {},
   "outputs": [],
   "source": [
    "pca = PCA(n_components=50)\n",
    "pca.fit(train_x)\n",
    "train_x = pca.transform(train_x)\n",
    "balance_x = pca.transform(balance_x)\n",
    "dev1_x = pca.transform(dev1_x)\n",
    "dev2_x = pca.transform(dev2_x)\n",
    "test_x = pca.transform(test_x)"
   ]
  },
  {
   "cell_type": "code",
   "execution_count": null,
   "metadata": {},
   "outputs": [],
   "source": [
    "ica = FastICA(n_components=50)\n",
    "ica.fit(train_x)\n",
    "train_x = ica.transform(train_x)\n",
    "balance_x = ica.transform(balance_x)\n",
    "dev1_x = ica.transform(dev1_x)\n",
    "dev2_x = ica.transform(dev2_x)\n",
    "test_x = ica.transform(test_x)"
   ]
  },
  {
   "cell_type": "code",
   "execution_count": 16,
   "metadata": {},
   "outputs": [],
   "source": [
    "class ALCModel:\n",
    "    def __init__(self, method, verbose=None):\n",
    "        if method == 'logistic':\n",
    "            if verbose is None:\n",
    "                verbose = 0\n",
    "            self.clf = LogisticRegression(C=1.0)\n",
    "        elif method == 'neighbor':\n",
    "            self.clf = KNeighborsClassifier(n_neighbors=5, leaf_size=30)\n",
    "        elif method == 'svm':\n",
    "            if verbose is None:\n",
    "                verbose = False\n",
    "            self.clf = SVC(C=1.0, kernel='rbf', verbose=verbose)\n",
    "        elif method == 'linear_svm':\n",
    "            if verbose is None:\n",
    "                verbose = 0\n",
    "            self.clf = LinearSVC(C=1.0, verbose=verbose)\n",
    "        elif method == 'forest':\n",
    "            if verbose is None:\n",
    "                verbose = 0\n",
    "            self.clf = RandomForestClassifier(n_estimators=200, verbose=verbose)\n",
    "        elif method == 'adaboost':\n",
    "            self.clf = AdaBoostClassifier(n_estimators=100)\n",
    "        elif method == 'gradboost':\n",
    "            if verbose is None:\n",
    "                  verbose = False\n",
    "            self.clf = GradientBoostingClassifier(n_estimators=100, verbose=verbose)\n",
    "        else:\n",
    "            pass\n",
    "        \n",
    "    def fit(self, x, y):\n",
    "        self.clf.fit(x, y)\n",
    "    \n",
    "    def predict(self, x):\n",
    "        prediction = self.clf.predict(x)\n",
    "        return prediction\n",
    "    \n",
    "    def evaluate(self, x, label, roc=False):\n",
    "        pred = self.predict(x)\n",
    "        acc = np.mean(pred == label)\n",
    "        report = sklearn.metrics.classification_report(label, pred)\n",
    "        if roc:\n",
    "            curve = plot_roc_curve(self.clf, x, label)\n",
    "            plt.show()\n",
    "        return acc, report"
   ]
  },
  {
   "cell_type": "code",
   "execution_count": null,
   "metadata": {},
   "outputs": [],
   "source": [
    "model = ALCModel('logistic')\n",
    "model.fit(balance_x, balance_y)\n",
    "acc, report = model.evaluate(test_x, test_y, roc=True)\n",
    "print(report)"
   ]
  },
  {
   "cell_type": "code",
   "execution_count": null,
   "metadata": {},
   "outputs": [],
   "source": [
    "model = ALCModel('neighbor')\n",
    "model.fit(balance_x, balance_y)\n",
    "acc, report = model.evaluate(test_x, test_y, roc=True)\n",
    "print(report)"
   ]
  },
  {
   "cell_type": "code",
   "execution_count": null,
   "metadata": {},
   "outputs": [],
   "source": [
    "model = ALCModel('svm')\n",
    "model.fit(balance_x, balance_y)\n",
    "acc, report = model.evaluate(test_x, test_y, roc=True)\n",
    "print(report)"
   ]
  },
  {
   "cell_type": "code",
   "execution_count": null,
   "metadata": {},
   "outputs": [],
   "source": [
    "model = ALCModel('linear_svm')\n",
    "model.fit(balance_x, balance_y)\n",
    "acc, report = model.evaluate(test_x, test_y, roc=True)\n",
    "print(report)"
   ]
  },
  {
   "cell_type": "code",
   "execution_count": 12,
   "metadata": {
    "scrolled": false
   },
   "outputs": [
    {
     "data": {
      "image/png": "[encoded data removed]",
      "text/plain": [
       "<Figure size 432x288 with 1 Axes>"
      ]
     },
     "metadata": {
      "needs_background": "light"
     },
     "output_type": "display_data"
    },
    {
     "name": "stdout",
     "output_type": "stream",
     "text": [
      "              precision    recall  f1-score   support\n",
      "\n",
      "           0       0.61      0.72      0.66      1500\n",
      "           1       0.66      0.54      0.59      1500\n",
      "\n",
      "    accuracy                           0.63      3000\n",
      "   macro avg       0.63      0.63      0.63      3000\n",
      "weighted avg       0.63      0.63      0.63      3000\n",
      "\n"
     ]
    }
   ],
   "source": [
    "model = ALCModel('forest')\n",
    "model.fit(balance_x, balance_y)\n",
    "acc, report = model.evaluate(test_x, test_y, roc=True)\n",
    "print(report)"
   ]
  },
  {
   "cell_type": "code",
   "execution_count": 13,
   "metadata": {},
   "outputs": [
    {
     "data": {
      "image/png": "[encoded data removed]",
      "text/plain": [
       "<Figure size 432x288 with 1 Axes>"
      ]
     },
     "metadata": {
      "needs_background": "light"
     },
     "output_type": "display_data"
    },
    {
     "name": "stdout",
     "output_type": "stream",
     "text": [
      "              precision    recall  f1-score   support\n",
      "\n",
      "           0       0.65      0.64      0.65      1500\n",
      "           1       0.65      0.65      0.65      1500\n",
      "\n",
      "    accuracy                           0.65      3000\n",
      "   macro avg       0.65      0.65      0.65      3000\n",
      "weighted avg       0.65      0.65      0.65      3000\n",
      "\n"
     ]
    }
   ],
   "source": [
    "model = ALCModel('adaboost')\n",
    "model.fit(balance_x, balance_y)\n",
    "acc, report = model.evaluate(test_x, test_y, roc=True)\n",
    "print(report)"
   ]
  },
  {
   "cell_type": "code",
   "execution_count": null,
   "metadata": {},
   "outputs": [],
   "source": [
    "model = ALCModel('gradboost', verbose=True)\n",
    "model.fit(balance_x, balance_y)\n",
    "acc, report = model.evaluate(test_x, test_y, roc=True)\n",
    "print(report)"
   ]
  },
  {
   "cell_type": "code",
   "execution_count": null,
   "metadata": {},
   "outputs": [],
   "source": []
  }
 ],
 "metadata": {
  "kernelspec": {
   "display_name": "Python 3",
   "language": "python",
   "name": "python3"
  },
  "language_info": {
   "codemirror_mode": {
    "name": "ipython",
    "version": 3
   },
   "file_extension": ".py",
   "mimetype": "text/x-python",
   "name": "python",
   "nbconvert_exporter": "python",
   "pygments_lexer": "ipython3",
   "version": "3.7.9"
  }
 },
 "nbformat": 4,
 "nbformat_minor": 4
}
