{
 "cells": [
  {
   "cell_type": "code",
   "execution_count": 1,
   "metadata": {},
   "outputs": [],
   "source": [
    "import numpy as np\n",
    "import os\n",
    "import scipy\n",
    "import matplotlib.pyplot as plt\n",
    "import sklearn\n",
    "from sklearn.preprocessing import StandardScaler\n",
    "from sklearn.decomposition import PCA, FastICA\n",
    "from sklearn.linear_model import LogisticRegression\n",
    "from sklearn.neighbors import KNeighborsClassifier\n",
    "from sklearn.svm import LinearSVC, SVC\n",
    "from sklearn.ensemble import RandomForestClassifier, GradientBoostingClassifier\n",
    "from sklearn.ensemble import AdaBoostClassifier\n",
    "from sklearn.metrics import classification_report, plot_roc_curve\n",
    "from imblearn.over_sampling import SMOTE\n",
    "\n",
    "plt.style.use('seaborn')\n",
    "%matplotlib inline"
   ]
  },
  {
   "cell_type": "code",
   "execution_count": 2,
   "metadata": {},
   "outputs": [],
   "source": [
    "PATH = \"/Users/mazeyu/Desktop/CMU/20fall/18797/project/features\""
   ]
  },
  {
   "cell_type": "code",
   "execution_count": 3,
   "metadata": {},
   "outputs": [],
   "source": [
    "train_x = np.load(os.path.join(PATH, 'train_x.npy'), allow_pickle=True)\n",
    "train_y = np.load(os.path.join(PATH, 'train_y.npy'), allow_pickle=True)\n",
    "dev1_x = np.load(os.path.join(PATH, 'd1_x.npy'), allow_pickle=True)\n",
    "dev1_y = np.load(os.path.join(PATH, 'd1_y.npy'), allow_pickle=True)\n",
    "dev2_x = np.load(os.path.join(PATH, 'd2_x.npy'), allow_pickle=True)\n",
    "dev2_y = np.load(os.path.join(PATH, 'd2_y.npy'), allow_pickle=True)\n",
    "test_x = np.load(os.path.join(PATH, 'test_x.npy'), allow_pickle=True)\n",
    "test_y = np.load(os.path.join(PATH, 'test_y.npy'), allow_pickle=True)"
   ]
  },
  {
   "cell_type": "code",
   "execution_count": null,
   "metadata": {},
   "outputs": [],
   "source": [
    "train_x = np.concatenate([train_x, dev1_x, dev2_x])\n",
    "train_y = np.concatenate([train_y, dev1_y, dev2_y])\n",
    "\n",
    "smote = SMOTE(random_state=0)\n",
    "balance_x, balance_y = smote.fit_resample(train_x, train_y)"
   ]
  },
  {
   "cell_type": "code",
   "execution_count": 5,
   "metadata": {},
   "outputs": [
    {
     "name": "stdout",
     "output_type": "stream",
     "text": [
      "train: (5400, 4368) (5400,)\n",
      "dev1: (3960, 4368) (3960,)\n",
      "dev2: (1500, 4368) (1500,)\n",
      "test: (3000, 4368) (3000,)\n",
      "balance: (7200, 4368) (7200,)\n"
     ]
    }
   ],
   "source": [
    "print('train:', train_x.shape, train_y.shape)\n",
    "print('test:', test_x.shape, test_y.shape)\n",
    "print('balance:', balance_x.shape, balance_y.shape)"
   ]
  },
  {
   "cell_type": "code",
   "execution_count": null,
   "metadata": {},
   "outputs": [],
   "source": [
    "scaler = StandardScaler()\n",
    "scaler.fit(train_x)\n",
    "train_x = scaler.transform(train_x)\n",
    "balance_x = scaler.transform(balance_x)\n",
    "test_x = scaler.transform(test_x)"
   ]
  },
  {
   "cell_type": "code",
   "execution_count": 6,
   "metadata": {},
   "outputs": [],
   "source": [
    "pca = PCA(n_components=50)\n",
    "pca.fit(train_x)\n",
    "train_x = pca.transform(train_x)\n",
    "balance_x = pca.transform(balance_x)\n",
    "test_x = pca.transform(test_x)"
   ]
  },
  {
   "cell_type": "code",
   "execution_count": null,
   "metadata": {},
   "outputs": [],
   "source": [
    "ica = FastICA(n_components=50)\n",
    "ica.fit(train_x)\n",
    "train_x = ica.transform(train_x)\n",
    "balance_x = ica.transform(balance_x)\n",
    "test_x = ica.transform(test_x)"
   ]
  },
  {
   "cell_type": "code",
   "execution_count": 16,
   "metadata": {},
   "outputs": [],
   "source": [
    "class ALCModel:\n",
    "    def __init__(self, method, **kwarg):\n",
    "        if method == 'logistic':\n",
    "            # https://scikit-learn.org/stable/modules/generated/sklearn.linear_model.LogisticRegression.html\n",
    "            self.clf = LogisticRegression(**kwarg)\n",
    "        elif method == 'neighbor':\n",
    "            # https://scikit-learn.org/stable/modules/generated/sklearn.neighbors.KNeighborsClassifier.html\n",
    "            self.clf = KNeighborsClassifier(**kwarg)\n",
    "        elif method == 'svm':\n",
    "            # https://scikit-learn.org/stable/modules/generated/sklearn.svm.SVC.html\n",
    "            self.clf = SVC(**kwarg)\n",
    "        elif method == 'forest':\n",
    "            # https://scikit-learn.org/stable/modules/generated/sklearn.ensemble.RandomForestClassifier.html\n",
    "            self.clf = RandomForestClassifier(**kwarg)\n",
    "        elif method == 'adaboost':\n",
    "            # https://scikit-learn.org/stable/modules/generated/sklearn.ensemble.AdaBoostClassifier.html\n",
    "            self.clf = AdaBoostClassifier(**kwarg)\n",
    "        elif method == 'gradboost':\n",
    "            # https://scikit-learn.org/stable/modules/generated/sklearn.ensemble.GradientBoostingClassifier.html\n",
    "            self.clf = GradientBoostingClassifier(**kwarg)\n",
    "        else:\n",
    "            raise NotImplementedError\n",
    "        \n",
    "    def fit(self, x, y):\n",
    "        self.clf.fit(x, y)\n",
    "    \n",
    "    def predict(self, x):\n",
    "        prediction = self.clf.predict(x)\n",
    "        return prediction\n",
    "    \n",
    "    def evaluate(self, x, label, roc=True):\n",
    "        pred = self.predict(x)\n",
    "        acc = np.mean(pred == label)\n",
    "        report = sklearn.metrics.classification_report(label, pred)\n",
    "        if roc:\n",
    "            curve = plot_roc_curve(self.clf, x, label)\n",
    "            plt.show()\n",
    "        return acc, report"
   ]
  },
  {
   "cell_type": "code",
   "execution_count": null,
   "metadata": {},
   "outputs": [],
   "source": [
    "model = ALCModel('logistic', penalty='l2', C=1.0, n_jobs=8)\n",
    "model.fit(balance_x, balance_y)\n",
    "acc, report = model.evaluate(test_x, test_y, roc=True)\n",
    "print(report)"
   ]
  },
  {
   "cell_type": "code",
   "execution_count": null,
   "metadata": {},
   "outputs": [],
   "source": [
    "model = ALCModel('neighbor', n_neighbors=5, leaf_size=30, n_jobs=8)\n",
    "model.fit(balance_x, balance_y)\n",
    "acc, report = model.evaluate(test_x, test_y, roc=True)\n",
    "print(report)"
   ]
  },
  {
   "cell_type": "code",
   "execution_count": null,
   "metadata": {},
   "outputs": [],
   "source": [
    "model = ALCModel('svm', C=1.0, kernel='rbf')\n",
    "model.fit(balance_x, balance_y)\n",
    "acc, report = model.evaluate(test_x, test_y, roc=True)\n",
    "print(report)"
   ]
  },
  {
   "cell_type": "code",
   "execution_count": null,
   "metadata": {},
   "outputs": [],
   "source": [
    "model = ALCModel('forest', n_estimators=100, n_jobs=8)\n",
    "model.fit(balance_x, balance_y)\n",
    "acc, report = model.evaluate(test_x, test_y, roc=True)\n",
    "print(report)"
   ]
  },
  {
   "cell_type": "code",
   "execution_count": null,
   "metadata": {},
   "outputs": [],
   "source": [
    "model = ALCModel('adaboost', n_estimators=100, learning_rate=1.0)\n",
    "model.fit(balance_x, balance_y)\n",
    "acc, report = model.evaluate(test_x, test_y, roc=True)\n",
    "print(report)"
   ]
  },
  {
   "cell_type": "code",
   "execution_count": null,
   "metadata": {},
   "outputs": [],
   "source": [
    "model = ALCModel('gradboost', n_estimators=100, learning_rate=0.1, verbose=True)\n",
    "model.fit(balance_x, balance_y)\n",
    "acc, report = model.evaluate(test_x, test_y, roc=True)\n",
    "print(report)"
   ]
  },
  {
   "cell_type": "code",
   "execution_count": null,
   "metadata": {},
   "outputs": [],
   "source": []
  }
 ],
 "metadata": {
  "kernelspec": {
   "display_name": "Python 3",
   "language": "python",
   "name": "python3"
  },
  "language_info": {
   "codemirror_mode": {
    "name": "ipython",
    "version": 3
   },
   "file_extension": ".py",
   "mimetype": "text/x-python",
   "name": "python",
   "nbconvert_exporter": "python",
   "pygments_lexer": "ipython3",
   "version": "3.7.9"
  }
 },
 "nbformat": 4,
 "nbformat_minor": 4
}
