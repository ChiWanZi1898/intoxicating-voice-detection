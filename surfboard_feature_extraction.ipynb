{
 "cells": [
  {
   "cell_type": "code",
   "execution_count": 1,
   "metadata": {},
   "outputs": [],
   "source": [
    "import os\n",
    "import pandas as pd\n",
    "import numpy as np\n",
    "import subprocess\n",
    "from tqdm import tqdm\n",
    "import sys\n",
    "\n",
    "from surfboard.sound import Waveform\n",
    "from surfboard.feature_extraction import extract_features"
   ]
  },
  {
   "cell_type": "code",
   "execution_count": 2,
   "metadata": {},
   "outputs": [
    {
     "data": {
      "text/plain": [
       "['/Users/mazeyu/Desktop/CMU/20fall/18797/project/code/intoxicating-voice-detection',\n",
       " '/Users/mazeyu/opt/anaconda3/envs/mlsp/lib/python38.zip',\n",
       " '/Users/mazeyu/opt/anaconda3/envs/mlsp/lib/python3.8',\n",
       " '/Users/mazeyu/opt/anaconda3/envs/mlsp/lib/python3.8/lib-dynload',\n",
       " '',\n",
       " '/Users/mazeyu/opt/anaconda3/envs/mlsp/lib/python3.8/site-packages',\n",
       " '/Users/mazeyu/opt/anaconda3/envs/mlsp/lib/python3.8/site-packages/IPython/extensions',\n",
       " '/Users/mazeyu/.ipython']"
      ]
     },
     "execution_count": 2,
     "metadata": {},
     "output_type": "execute_result"
    }
   ],
   "source": [
    "sys.path"
   ]
  },
  {
   "cell_type": "code",
   "execution_count": 3,
   "metadata": {},
   "outputs": [],
   "source": [
    "DATASET_PATH = \"/Users/mazeyu/Desktop/CMU/20fall/18797/project/data\"\n",
    "\n",
    "DOC_PATH = 'alc_original/DOC/IS2011CHALLENGE'\n",
    "\n",
    "DATA_PATH = 'alc_original'\n",
    "TRAIN_TABLE = 'TRAIN.TBL'\n",
    "D1_TABLE = 'D1.TBL'\n",
    "D2_TABLE = 'D2.TBL'\n",
    "TEST_TABLE = 'TESTMAPPING.txt'"
   ]
  },
  {
   "cell_type": "code",
   "execution_count": 4,
   "metadata": {},
   "outputs": [],
   "source": [
    "components = ['mfcc', \n",
    "              'log_melspec',\n",
    "              'magnitude_spectrum',\n",
    "              'bark_spectrogram',\n",
    "              'morlet_cwt',\n",
    "              'chroma_stft',\n",
    "              'chroma_cqt',\n",
    "              'chroma_cens',\n",
    "              'spectral_slope',\n",
    "              'spectral_flux',\n",
    "              'spectral_entropy',\n",
    "              'spectral_centroid',\n",
    "              'spectral_spread',\n",
    "              'spectral_skewness',\n",
    "              'spectral_kurtosis',\n",
    "              'spectral_flatness',\n",
    "              'spectral_rolloff',\n",
    "              'loudness',\n",
    "              'loudness_slidingwindow',\n",
    "              'shannon_entropy',\n",
    "              'shannon_entropy_slidingwindow',\n",
    "              'zerocrossing',\n",
    "              'zerocrossing_slidingwindow',\n",
    "              'rms',\n",
    "              'intensity',\n",
    "              'crest_factor',\n",
    "              'f0_contour',\n",
    "              'f0_statistics',\n",
    "              'ppe',\n",
    "              'jitters',\n",
    "              'shimmers',\n",
    "              'hnr',\n",
    "              'dfa',\n",
    "              'lpc',\n",
    "              'lsf',\n",
    "              'formants',\n",
    "              'formants_slidingwindow',\n",
    "              'kurtosis_slidingwindow',\n",
    "              'log_energy',\n",
    "              'log_energy_slidingwindow']\n",
    "\n",
    "statistics = ['max',\n",
    "              'min',\n",
    "              'mean',\n",
    "              'std',\n",
    "              'skewness',\n",
    "              'kurtosis',\n",
    "              'first_derivative_mean',\n",
    "              'first_derivative_std',\n",
    "              'first_derivative_skewness',\n",
    "              'first_derivative_kurtosis',\n",
    "              'second_derivative_mean',\n",
    "              'second_derivative_std',\n",
    "              'second_derivative_skewness',\n",
    "              'second_derivative_kurtosis',\n",
    "              'first_quartile',\n",
    "              'second_quartile',\n",
    "              'third_quartile',\n",
    "              'q2_q1_range',\n",
    "              'q3_q2_range',\n",
    "              'q3_q1_range',\n",
    "              'percentile_1',\n",
    "              'percentile_99',\n",
    "              'percentile_1_99_range',\n",
    "              'linear_regression_offset',\n",
    "              'linear_regression_slope',\n",
    "              'linear_regression_mse']"
   ]
  },
  {
   "cell_type": "code",
   "execution_count": 5,
   "metadata": {},
   "outputs": [],
   "source": [
    "class ALCDataset:\n",
    "    def __init__(self, path):\n",
    "        self.dataset_path = path\n",
    "        self.__load_meta_file()\n",
    "\n",
    "    def __process_meta(self, meta):\n",
    "        meta['file_name'] = meta['file_name'].map(lambda x: x[x.find('/') + 1:].lower())\n",
    "        meta['file_name'] = meta['file_name'].map(lambda x: x[:-8] + 'm' + x[-7:])\n",
    "        meta['session'] = meta['file_name'].map(lambda x: x[:x.find('/')])\n",
    "        meta['label'] = meta['user_state'].map(lambda x: 1 if x == 'I' else 0)\n",
    "        return meta\n",
    "    \n",
    "    def extract_feature(self, split):\n",
    "        split = split.lower()\n",
    "        assert split in ('train', 'd1', 'd2', 'test')\n",
    "        meta = getattr(self, f'{split}_meta')\n",
    "        \n",
    "        sounds = []\n",
    "        for file_name in tqdm(meta['file_name']):\n",
    "            sound = Waveform(path=os.path.join(self.dataset_path, DATA_PATH, file_name))\n",
    "            sounds.append(sound)\n",
    "        \n",
    "        features_df = extract_features(sounds, components, statistics)\n",
    "        features = features_df.to_numpy()\n",
    "            \n",
    "        np.save(f'{split}_x.npy', features)\n",
    "            \n",
    "        return features\n",
    "\n",
    "    def __load_meta_file(self):\n",
    "        \"\"\"Load meta file.\n",
    "\n",
    "        :return: None\n",
    "        \"\"\"\n",
    "        assert os.path.exists(self.dataset_path)\n",
    "        doc_folder = os.path.join(self.dataset_path, DOC_PATH)\n",
    "        print(doc_folder)\n",
    "\n",
    "        train_meta_path = os.path.join(doc_folder, TRAIN_TABLE)\n",
    "        self.train_meta = pd.read_csv(train_meta_path, sep='\\t', names=['file_name', 'bac', 'user_state'])\n",
    "        self.train_meta = self.__process_meta(self.train_meta)\n",
    "\n",
    "        d1_meta_path = os.path.join(doc_folder, D1_TABLE)\n",
    "        self.d1_meta = pd.read_csv(d1_meta_path, sep='\\t', names=['file_name', 'bac', 'user_state'])\n",
    "        self.d1_meta = self.__process_meta(self.d1_meta)\n",
    "\n",
    "        d2_meta_path = os.path.join(doc_folder, D2_TABLE)\n",
    "        self.d2_meta = pd.read_csv(d2_meta_path, sep='\\t', names=['file_name', 'bac', 'user_state'])\n",
    "        self.d2_meta = self.__process_meta(self.d2_meta)\n",
    "\n",
    "        test_meta_path = os.path.join(doc_folder, TEST_TABLE)\n",
    "        self.test_meta = pd.read_csv(test_meta_path, sep='\\t',\n",
    "                                     names=['file_name', 'bac', 'user_state', 'test_file_name'])\n",
    "        self.test_meta = self.test_meta[['file_name', 'bac', 'user_state']]\n",
    "        self.test_meta = self.__process_meta(self.test_meta)"
   ]
  },
  {
   "cell_type": "code",
   "execution_count": 6,
   "metadata": {
    "scrolled": true
   },
   "outputs": [
    {
     "name": "stdout",
     "output_type": "stream",
     "text": [
      "/Users/mazeyu/Desktop/CMU/20fall/18797/project/data/alc_original/DOC/IS2011CHALLENGE\n"
     ]
    }
   ],
   "source": [
    "dataset = ALCDataset(DATASET_PATH)"
   ]
  },
  {
   "cell_type": "code",
   "execution_count": null,
   "metadata": {},
   "outputs": [],
   "source": [
    "f_train = dataset.extract_feature(\"train\")"
   ]
  },
  {
   "cell_type": "code",
   "execution_count": null,
   "metadata": {},
   "outputs": [],
   "source": [
    "f_d1 = dataset.extract_feature(\"d1\")"
   ]
  },
  {
   "cell_type": "code",
   "execution_count": null,
   "metadata": {},
   "outputs": [],
   "source": [
    "f_d2 = dataset.extract_feature(\"d2\")"
   ]
  },
  {
   "cell_type": "code",
   "execution_count": null,
   "metadata": {},
   "outputs": [],
   "source": [
    "f_test = dataset.extract_feature(\"test\")"
   ]
  },
  {
   "cell_type": "code",
   "execution_count": null,
   "metadata": {},
   "outputs": [],
   "source": []
  }
 ],
 "metadata": {
  "kernelspec": {
   "display_name": "Python 3",
   "language": "python",
   "name": "python3"
  },
  "language_info": {
   "codemirror_mode": {
    "name": "ipython",
    "version": 3
   },
   "file_extension": ".py",
   "mimetype": "text/x-python",
   "name": "python",
   "nbconvert_exporter": "python",
   "pygments_lexer": "ipython3",
   "version": "3.8.5"
  }
 },
 "nbformat": 4,
 "nbformat_minor": 4
}
